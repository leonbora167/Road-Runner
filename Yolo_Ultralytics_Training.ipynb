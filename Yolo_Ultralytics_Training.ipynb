{
 "cells": [
  {
   "cell_type": "markdown",
   "metadata": {
    "id": "A1J7hc4dOEWG"
   },
   "source": [
    "# Prequisites"
   ]
  },
  {
   "cell_type": "code",
   "execution_count": null,
   "metadata": {
    "colab": {
     "base_uri": "https://localhost:8080/"
    },
    "id": "_R1gUd_ELvEL",
    "outputId": "ce0cfc19-998b-4b72-ed13-c16c42b118e3"
   },
   "outputs": [],
   "source": []
  },
  {
   "cell_type": "code",
   "execution_count": null,
   "metadata": {
    "id": "gF-QgGIWI1p3"
   },
   "outputs": [],
   "source": [
    "!pip install ultralytics\n",
    "!pip install -q kaggle\n",
    "!pip install xmltodict\n",
    "!pip install gdown\n",
    "!pip install onnx\n",
    "!pip install onnxruntime-gpu\n",
    "!pip install onnxsim"
   ]
  },
  {
   "cell_type": "code",
   "execution_count": null,
   "metadata": {
    "id": "-ExLFxb5KE-o"
   },
   "outputs": [],
   "source": [
    "!mkdir ~/.kaggle\n",
    "!cp kaggle.json ~/.kaggle/\n",
    "!chmod 600 ~/.kaggle/kaggle.json"
   ]
  },
  {
   "cell_type": "code",
   "execution_count": null,
   "metadata": {
    "id": "io8xaXP_SVje"
   },
   "outputs": [],
   "source": [
    "import os\n",
    "from tqdm.notebook import tqdm\n",
    "import cv2\n",
    "import xmltodict\n",
    "import json\n",
    "import matplotlib.pyplot as plt\n",
    "import random"
   ]
  },
  {
   "cell_type": "code",
   "execution_count": null,
   "metadata": {
    "id": "IAUltCHcWZKy"
   },
   "outputs": [],
   "source": [
    "def convert_to_yolo_format(xmin, xmax, ymin, ymax, image_width, image_height):\n",
    "    \"\"\"Converts bounding box coordinates to YOLO format.\n",
    "\n",
    "    Args:\n",
    "        xmin: Minimum x-coordinate of the bounding box.\n",
    "        xmax: Maximum x-coordinate of the bounding box.\n",
    "        ymin: Minimum y-coordinate of the bounding box.\n",
    "        ymax: Maximum y-coordinate of the bounding box.\n",
    "        image_width: Width of the image.\n",
    "        image_height: Height of the image.\n",
    "\n",
    "    Returns:\n",
    "        A list containing the bounding box coordinates in YOLO format:\n",
    "        [center_x, center_y, width, height]\n",
    "    \"\"\"\n",
    "\n",
    "    dw = 1.0 / image_width\n",
    "    dh = 1.0 / image_height\n",
    "    x_center = (xmin + xmax) / 2.0 * dw\n",
    "    y_center = (ymin + ymax) / 2.0 * dh\n",
    "    width = (xmax - xmin) * dw\n",
    "    height = (ymax - ymin) * dh\n",
    "    return [x_center, y_center, width, height]"
   ]
  },
  {
   "cell_type": "code",
   "execution_count": null,
   "metadata": {
    "id": "uMIrf1JCdlV_"
   },
   "outputs": [],
   "source": [
    "def yolo_to_xyxy(yolo_bbox, image_width, image_height):\n",
    "    \"\"\"\n",
    "    Convert YOLO format bounding box to x1, y1, x2, y2 format.\n",
    "\n",
    "    Args:\n",
    "    - yolo_bbox: Tuple (x_center, y_center, width, height) representing bounding box in YOLO format.\n",
    "    - image_width: Width of the image.\n",
    "    - image_height: Height of the image.\n",
    "\n",
    "    Returns:\n",
    "    - Tuple (x1, y1, x2, y2) representing bounding box in x1, y1, x2, y2 format.\n",
    "    \"\"\"\n",
    "    x_center, y_center, width, height = yolo_bbox\n",
    "    x_center *= image_width\n",
    "    y_center *= image_height\n",
    "    width *= image_width\n",
    "    height *= image_height\n",
    "\n",
    "    x1 = x_center - width / 2\n",
    "    y1 = y_center - height / 2\n",
    "    x2 = x_center + width / 2\n",
    "    y2 = y_center + height / 2\n",
    "\n",
    "    return (x1, y1, x2, y2)\n"
   ]
  },
  {
   "cell_type": "markdown",
   "metadata": {
    "id": "ypCZEBMJSPtj"
   },
   "source": [
    "# Data Prep"
   ]
  },
  {
   "cell_type": "code",
   "execution_count": null,
   "metadata": {
    "id": "U0-RQxe5Jw0S"
   },
   "outputs": [],
   "source": [
    "!mkdir /content/data\n",
    "!mkdir /content/data/images\n",
    "!mkdir /content/data/labels"
   ]
  },
  {
   "cell_type": "code",
   "execution_count": null,
   "metadata": {
    "id": "YKl7nYzRpHDq"
   },
   "outputs": [],
   "source": [
    "!rm -rf /content/data"
   ]
  },
  {
   "cell_type": "markdown",
   "metadata": {
    "id": "e9uU_obkJt6Z"
   },
   "source": [
    "## NP-1"
   ]
  },
  {
   "cell_type": "code",
   "execution_count": null,
   "metadata": {
    "colab": {
     "base_uri": "https://localhost:8080/"
    },
    "id": "PpADmlcVJV3r",
    "outputId": "0d114cf4-338d-4a76-b2e6-2e0674f51cf3"
   },
   "outputs": [],
   "source": [
    "!kaggle datasets download -d saisirishan/indian-vehicle-dataset"
   ]
  },
  {
   "cell_type": "code",
   "execution_count": null,
   "metadata": {
    "id": "CKDUpB5jJWOK"
   },
   "outputs": [],
   "source": [
    "!unzip indian-vehicle-dataset.zip"
   ]
  },
  {
   "cell_type": "code",
   "execution_count": null,
   "metadata": {
    "id": "XuBzAOW2Jww4"
   },
   "outputs": [],
   "source": [
    "main_folder = \"/content/State-wise_OLX\"\n",
    "for i in tqdm(os.listdir(main_folder)):\n",
    "  state = os.path.join(main_folder, i)\n",
    "  for j in tqdm(os.listdir(state)):\n",
    "    if(j.endswith(\".xml\")):\n",
    "      annotation_path = os.path.join(state, j)\n",
    "      img_path = os.path.join(state, j.replace(\".xml\", \".jpg\"))\n",
    "      img = cv2.imread(img_path)\n",
    "      with open(annotation_path, encoding=\"utf8\") as fd:\n",
    "        temp = xmltodict.parse(fd.read())\n",
    "      xmin = float(temp[\"annotation\"][\"object\"][\"bndbox\"][\"xmin\"])\n",
    "      xmax = float(temp[\"annotation\"][\"object\"][\"bndbox\"][\"xmax\"])\n",
    "      ymin = float(temp[\"annotation\"][\"object\"][\"bndbox\"][\"ymin\"])\n",
    "      ymax = float(temp[\"annotation\"][\"object\"][\"bndbox\"][\"ymax\"])\n",
    "      try: #There are some xml files without any corresponding jpg images\n",
    "        image_width = img.shape[1]\n",
    "      except:\n",
    "        continue\n",
    "      image_height = img.shape[0]\n",
    "      yolo_format = convert_to_yolo_format(xmin, xmax, ymin, ymax, image_width, image_height)\n",
    "      x_center = yolo_format[0]\n",
    "      y_center = yolo_format[1]\n",
    "      width = yolo_format[2]\n",
    "      height = yolo_format[3]\n",
    "      clss = 0 #Class id 0 for number plates\n",
    "      new_img_path = os.path.join(\"/content/data/images\", j.replace(\".xml\", \"\") + \".jpg\")\n",
    "      new_annotation_path = os.path.join(\"/content/data/labels\", j.replace(\".xml\", \"\") + \".txt\")\n",
    "      cv2.imwrite(new_img_path, img)\n",
    "      with open(new_annotation_path, \"w\") as f:\n",
    "        f.write(str(clss) + \"\\t\" + str(x_center) + \"\\t\" + str(y_center) + \"\\t\" + str(width) + \"\\t\" + str(height))"
   ]
  },
  {
   "cell_type": "code",
   "execution_count": null,
   "metadata": {
    "colab": {
     "base_uri": "https://localhost:8080/"
    },
    "id": "oVYj1zrBJwtR",
    "outputId": "b8f23adc-119b-423a-e807-3b70831320f9"
   },
   "outputs": [],
   "source": [
    "len(os.listdir(\"/content/data/images\")), len(os.listdir(\"/content/data/labels\"))"
   ]
  },
  {
   "cell_type": "code",
   "execution_count": null,
   "metadata": {
    "id": "mjG6pohG8ABM"
   },
   "outputs": [],
   "source": [
    "!rm -rf indian-vehicle-dataset.zip\n",
    "!rm -rf /content/State-wise_OLX\n",
    "!rm -rf /content/google_images\n",
    "!rm -rf /content/video_images"
   ]
  },
  {
   "cell_type": "markdown",
   "metadata": {
    "id": "-mjPxPlh4e8M"
   },
   "source": [
    "## Vehicle - 1"
   ]
  },
  {
   "cell_type": "code",
   "execution_count": null,
   "metadata": {
    "colab": {
     "base_uri": "https://localhost:8080/"
    },
    "id": "WLN5e56o8AJ7",
    "outputId": "2aeb371b-d13d-4a12-f0c4-ecd2024c09ea"
   },
   "outputs": [],
   "source": [
    "!kaggle datasets download -d boulahchichenadir/cars-object-detection\n",
    "#https://www.kaggle.com/datasets/ashfakyeafi/road-vehicle-images-dataset"
   ]
  },
  {
   "cell_type": "code",
   "execution_count": null,
   "metadata": {
    "colab": {
     "base_uri": "https://localhost:8080/"
    },
    "id": "L2odCJGC7bLn",
    "outputId": "a150c102-9e06-4af6-897c-618c6709a187"
   },
   "outputs": [],
   "source": [
    "!unzip /content/cars-object-detection.zip"
   ]
  },
  {
   "cell_type": "code",
   "execution_count": null,
   "metadata": {
    "id": "vMu7UqvkMQmn"
   },
   "outputs": [],
   "source": [
    "!rm -rf /content/cars-object-detection.zip"
   ]
  },
  {
   "cell_type": "code",
   "execution_count": null,
   "metadata": {
    "colab": {
     "base_uri": "https://localhost:8080/",
     "height": 49,
     "referenced_widgets": [
      "d8f20bb90be94477b3b69142854b4664",
      "dbd4a004c782490cac097885c6b3cc77",
      "c04163bd465a43478bfcb5768c8fda95",
      "0437e72f97a44899b837c69da3d7d68b",
      "d6e212d8c6d8427e95fd3697e5301071",
      "a295ebb590fb40e2a72752eada7a378c",
      "6635cb942b234bac8b2f70bf1e544790",
      "bafedef149164afbac4c67e3462ef699",
      "2cf48d478632442699f25135dd97eff4",
      "ac6d2681b5b04a2bbbea2440281a6fed",
      "a176ff7fd16448cf9ed33ffffd1383e2"
     ]
    },
    "id": "NPkb2GGjgoXb",
    "outputId": "5c3fa317-fb1f-48e7-80d6-4c44b8b92c79"
   },
   "outputs": [],
   "source": [
    "main_folder = \"/content/DATA/DATA/train\"\n",
    "for i in tqdm(os.listdir(main_folder)):\n",
    "  if(i.endswith(\".jpg\")):\n",
    "    img_path = os.path.join(main_folder, i)\n",
    "  else:\n",
    "    continue\n",
    "  annotation_path = os.path.join(main_folder, i.replace(\".jpg\", \".xml\"))\n",
    "  with open(annotation_path, encoding=\"utf8\") as fd:\n",
    "    temp = xmltodict.parse(fd.read())\n",
    "  img = cv2.imread(img_path)\n",
    "  image_height, image_width = img.shape[0], img.shape[1]\n",
    "  lis = []\n",
    "  try:\n",
    "    for j in temp[\"annotation\"][\"object\"]:\n",
    "      xmin = float(j[\"bndbox\"][\"xmin\"])\n",
    "      xmax = float(j[\"bndbox\"][\"xmax\"])\n",
    "      ymin = float(j[\"bndbox\"][\"ymin\"])\n",
    "      ymax = float(j[\"bndbox\"][\"ymax\"])\n",
    "      yolo_format = convert_to_yolo_format(xmin, xmax, ymin, ymax, image_width, image_height)\n",
    "      clss = 1\n",
    "      x_center = yolo_format[0]\n",
    "      y_center = yolo_format[1]\n",
    "      width = yolo_format[2]\n",
    "      height = yolo_format[3]\n",
    "      line = str(clss) + \"\\t\" + str(x_center) + \"\\t\" + str(y_center) + \"\\t\" + str(width) + \"\\t\" + str(height)\n",
    "      lis.append(line)\n",
    "  except:\n",
    "    j = temp[\"annotation\"][\"object\"]\n",
    "    xmin = float(j[\"bndbox\"][\"xmin\"])\n",
    "    xmax = float(j[\"bndbox\"][\"xmax\"])\n",
    "    ymin = float(j[\"bndbox\"][\"ymin\"])\n",
    "    ymax = float(j[\"bndbox\"][\"ymax\"])\n",
    "    yolo_format = convert_to_yolo_format(xmin, xmax, ymin, ymax, image_width, image_height)\n",
    "    x_center = yolo_format[0]\n",
    "    y_center = yolo_format[1]\n",
    "    width = yolo_format[2]\n",
    "    height = yolo_format[3]\n",
    "    clss = 1\n",
    "    line = str(clss) + \"\\t\" + str(x_center) + \"\\t\" + str(y_center) + \"\\t\" + str(width) + \"\\t\" + str(height)\n",
    "    lis.append(line)\n",
    "  new_img_path = os.path.join(\"/content/data/images\", i)\n",
    "  new_annotation_path = os.path.join(\"/content/data/labels\", i.replace(\".jpg\", \".txt\"))\n",
    "  cv2.imwrite(new_img_path, img)\n",
    "  with open(new_annotation_path, \"w\") as f:\n",
    "    for k in lis:\n",
    "      f.write(k+\"\\n\")"
   ]
  },
  {
   "cell_type": "code",
   "execution_count": null,
   "metadata": {
    "colab": {
     "base_uri": "https://localhost:8080/"
    },
    "id": "serxeyqhBIfB",
    "outputId": "fba1a97c-525d-4346-e6b2-51df526a90ac"
   },
   "outputs": [],
   "source": [
    "len(os.listdir(\"/content/data/images\")), len(os.listdir(\"/content/data/labels\"))"
   ]
  },
  {
   "cell_type": "markdown",
   "metadata": {
    "id": "VZvzgbFE6ZGA"
   },
   "source": [
    "## Vehicle - 2"
   ]
  },
  {
   "cell_type": "code",
   "execution_count": null,
   "metadata": {
    "colab": {
     "base_uri": "https://localhost:8080/"
    },
    "id": "xMkqs1QB0lko",
    "outputId": "943ffa80-6e94-400f-c2c3-101d4692113e"
   },
   "outputs": [],
   "source": [
    "!kaggle datasets download -d deepak242424/iitmhetra"
   ]
  },
  {
   "cell_type": "markdown",
   "metadata": {
    "id": "4xMEAjkVUErI"
   },
   "source": [
    "## Vehicle + NP - 1"
   ]
  },
  {
   "cell_type": "code",
   "execution_count": null,
   "metadata": {
    "colab": {
     "base_uri": "https://localhost:8080/"
    },
    "id": "qoOKsmqSFenn",
    "outputId": "82e79ca5-45a1-4565-d7f9-af5269dd4791"
   },
   "outputs": [],
   "source": [
    "!kaggle datasets download -d saumyapatel/traffic-vehicles-object-detection\n",
    "#https://www.kaggle.com/datasets/saumyapatel/traffic-vehicles-object-detection"
   ]
  },
  {
   "cell_type": "code",
   "execution_count": null,
   "metadata": {
    "id": "C7f8dcP1UmLp"
   },
   "outputs": [],
   "source": [
    "!rm -rf /content/temp/\n",
    "!mkdir /content/temp"
   ]
  },
  {
   "cell_type": "code",
   "execution_count": null,
   "metadata": {
    "colab": {
     "base_uri": "https://localhost:8080/"
    },
    "id": "2g6Ro5phUtjW",
    "outputId": "a17671ce-9957-4b48-d341-5cf8ab4ad91a"
   },
   "outputs": [],
   "source": [
    "!unzip \"/content/traffic-vehicles-object-detection.zip\" -d /content/temp"
   ]
  },
  {
   "cell_type": "code",
   "execution_count": null,
   "metadata": {
    "colab": {
     "base_uri": "https://localhost:8080/",
     "height": 362
    },
    "id": "NOwq2gGnUtfi",
    "outputId": "4130875b-520a-4beb-f327-43f7aff905aa"
   },
   "outputs": [],
   "source": [
    "#Confirming whether the labels are working or not ?\n",
    "\n",
    "img_path = \"/content/temp/Traffic Dataset/images/train/00 (102).jpg\"\n",
    "label_path = \"/content/temp/Traffic Dataset/labels/train/00 (102).txt\"\n",
    "\n",
    "img = cv2.imread(img_path)\n",
    "image_height, image_width = img.shape[0], img.shape[1]\n",
    "temp = open(label_path, \"r\")\n",
    "temp = temp.readlines()\n",
    "for j in temp:\n",
    "  j = j.replace(\"\\n\", \"\")\n",
    "  j = j.split(\" \")\n",
    "  clss = int(j[0])\n",
    "  x_center = float(j[1])\n",
    "  y_center = float(j[2])\n",
    "  width = float(j[3])\n",
    "  height = float(j[4])\n",
    "  yolo_bbox = (x_center, y_center, width, height)\n",
    "  x1,y1,x2,y2 = yolo_to_xyxy(yolo_bbox, image_width, image_height)\n",
    "  x1, y1, x2, y2 = int(x1), int(y1), int(x2), int(y2)\n",
    "  cv2.rectangle(img, (x1,y1), (x2,y2), (255,0,0), 5)\n",
    "  cv2.putText(img, str(clss), (int(x1), int(y1) - 5), cv2.FONT_HERSHEY_SIMPLEX, 10, (0, 0, 255), 5)\n",
    "plt.imshow(img)"
   ]
  },
  {
   "cell_type": "code",
   "execution_count": null,
   "metadata": {
    "colab": {
     "base_uri": "https://localhost:8080/",
     "height": 49,
     "referenced_widgets": [
      "e463d6f5915945a4b396088d91aa884b",
      "977947bb94a14c239929242164d17ccf",
      "18435455e5e247a089f50ce13fed8a1f",
      "784e4e3c8a4b47359533406b90baa3fa",
      "3dffee2368574e41b53b3e1af2636817",
      "18cce28193a14fa0bd87fe8b328add5e",
      "e332e76828874a498346d9f92e3f43b9",
      "12f0dedbea8f43bc8212266b33f44029",
      "33b64cf89d994a908b70c8ce1b1db2e8",
      "1e38a197bd5f4f3c9db52c14d4565e44",
      "b15447381e4f432d879e77be8d0a7956"
     ]
    },
    "id": "yuw9-xJuUsWa",
    "outputId": "895e0a9c-125f-4c29-851a-b00e560c0938"
   },
   "outputs": [],
   "source": [
    "#Seems like 0 is for Cars and 1 is for number plates and 6 is for trucks, for now lets only take cars and number plates\n",
    "#In our case 0 is for number plates and 1 is for cars so we will reverse it\n",
    "\n",
    "image_folder = \"/content/temp/Traffic Dataset/images/train\"\n",
    "label_folder = \"/content/temp/Traffic Dataset/labels/train\"\n",
    "\n",
    "for i in tqdm(os.listdir(image_folder)):\n",
    "  img_path = os.path.join(image_folder, i)\n",
    "  img = cv2.imread(img_path)\n",
    "  annotation_path = os.path.join(label_folder, i.split(\".\")[0]+\".txt\")\n",
    "  temp = open(annotation_path, \"r\")\n",
    "  temp = temp.readlines()\n",
    "  lis = []\n",
    "  for j in temp:\n",
    "    j = j.replace(\"\\n\", \"\")\n",
    "    j = j.split(\" \")\n",
    "    clss = int(j[0])\n",
    "    x_center = float(j[1])\n",
    "    y_center = float(j[2])\n",
    "    width = float(j[3])\n",
    "    height = float(j[4])\n",
    "    if(clss==1 or clss==0):\n",
    "      if(clss==1):\n",
    "        clss=0\n",
    "      elif(clss==0):\n",
    "        clss=1\n",
    "      line = str(clss) + \"\\t\" + str(x_center) + \"\\t\" + str(y_center) + \"\\t\" + str(width) + \"\\t\" + str(height)\n",
    "      lis.append(line)\n",
    "  new_img_path = os.path.join(\"/content/data/images\", i.split(\".\")[0]+\".jpg\")\n",
    "  new_annotation_path = os.path.join(\"/content/data/labels\", i.split(\".\")[0]+\".txt\")\n",
    "  cv2.imwrite(new_img_path, img)\n",
    "  with open(new_annotation_path, \"w\") as f:\n",
    "    for k in lis:\n",
    "      f.write(k+\"\\n\")"
   ]
  },
  {
   "cell_type": "code",
   "execution_count": null,
   "metadata": {
    "colab": {
     "base_uri": "https://localhost:8080/",
     "height": 49,
     "referenced_widgets": [
      "34715520bd2147a39a7acaca4527b5c6",
      "ee47a5e958354511a003a936a3f79329",
      "cf67dc8f680b4ee9853f3cc2455873cd",
      "8a2892a7b70340b58fef92bdc245bbf9",
      "59e79f6f83ff48e088a0b9d935d481f6",
      "ee6fc6fd5b1d43aa8dca435f8aa25653",
      "e5715fbe22404028870fd911f05cc8cd",
      "ae854d712f1c48ac8561a082043a63fd",
      "876c7c13141142ae88135d7083962019",
      "34ca8fd68447442facc3ef20f3c74ec9",
      "3246abfed3654310a286f3db7f1dcc10"
     ]
    },
    "id": "z3zc762KUmJE",
    "outputId": "d153efb7-ac9b-4792-8387-1a0a6b657e59"
   },
   "outputs": [],
   "source": [
    "image_folder = \"/content/temp/Traffic Dataset/images/val\"\n",
    "label_folder = \"/content/temp/Traffic Dataset/labels/val\"\n",
    "\n",
    "for i in tqdm(os.listdir(image_folder)):\n",
    "  img_path = os.path.join(image_folder, i)\n",
    "  img = cv2.imread(img_path)\n",
    "  annotation_path = os.path.join(label_folder, i.split(\".\")[0]+\".txt\")\n",
    "  temp = open(annotation_path, \"r\")\n",
    "  temp = temp.readlines()\n",
    "  lis = []\n",
    "  for j in temp:\n",
    "    j = j.replace(\"\\n\", \"\")\n",
    "    j = j.split(\" \")\n",
    "    clss = int(j[0])\n",
    "    x_center = float(j[1])\n",
    "    y_center = float(j[2])\n",
    "    width = float(j[3])\n",
    "    height = float(j[4])\n",
    "    if(clss==1 or clss==0):\n",
    "      if(clss==1):\n",
    "        clss=0\n",
    "      elif(clss==0):\n",
    "        clss=1\n",
    "      line = str(clss) + \"\\t\" + str(x_center) + \"\\t\" + str(y_center) + \"\\t\" + str(width) + \"\\t\" + str(height)\n",
    "      lis.append(line)\n",
    "  new_img_path = os.path.join(\"/content/data/images\", i.split(\".\")[0]+\".jpg\")\n",
    "  new_annotation_path = os.path.join(\"/content/data/labels\", i.split(\".\")[0]+\".txt\")\n",
    "  cv2.imwrite(new_img_path, img)\n",
    "  with open(new_annotation_path, \"w\") as f:\n",
    "    for k in lis:\n",
    "      f.write(k+\"\\n\")"
   ]
  },
  {
   "cell_type": "code",
   "execution_count": null,
   "metadata": {
    "colab": {
     "base_uri": "https://localhost:8080/"
    },
    "id": "ajWSZKAaUmGE",
    "outputId": "e3051723-5675-4b7d-dc3d-46c11f406d1a"
   },
   "outputs": [],
   "source": [
    "len(os.listdir(\"/content/data/images\")), len(os.listdir(\"/content/data/labels\"))"
   ]
  },
  {
   "cell_type": "code",
   "execution_count": null,
   "metadata": {
    "id": "ePm_8TGxUl_5"
   },
   "outputs": [],
   "source": []
  },
  {
   "cell_type": "markdown",
   "metadata": {
    "id": "_kQt_cq8HqzT"
   },
   "source": [
    "# Yolo Training"
   ]
  },
  {
   "cell_type": "code",
   "execution_count": null,
   "metadata": {
    "colab": {
     "base_uri": "https://localhost:8080/",
     "height": 81,
     "referenced_widgets": [
      "287f897707ce4152882a5b639e80b5e9",
      "3f8244f31bc84a47a413ba55f825967c",
      "152a9d5e58614eae899e781e77c057ee",
      "498ac06af5dc439e828c42bef5c2500d",
      "087e974229864fca95339b52ebe261ca",
      "94ac4224d8cc4a64b25788cdef50311a",
      "e60618fdf99f4f06afbe5caf1c610e89",
      "181d1ba9ea6f4146aa29e93b14673767",
      "3d0edd6b64444907af223072afb181aa",
      "a0792002290e47e9beed05210bf51a96",
      "5c86106f74e94e3e987b32c7c894d565",
      "e5aadc8552894223badb0e75b39edffb",
      "7911e112c8904f09a52ad273bab82d75",
      "2d8a9495056f481ba539cfb13b0514f8",
      "2ec19a16c87b4beba546d05df6cfe415",
      "ed22ad945d6645c8ac9fb023c706cc1c",
      "d0b0fa70c3ec49c18e85d67c58075635",
      "b15045b91372417faaf2ae9d7cc8ee53",
      "7ed78886d8184d23b9209c4a777d8cab",
      "dc831fadeefe4046b5a4aff18e114bda",
      "321216f4cde3403aa687f3713515f001",
      "fac3d9777d05419c9566ba098a426df7"
     ]
    },
    "id": "AqfNUAwu9h7U",
    "outputId": "e09813cc-fe39-4d0a-e30e-18eb06698fa1"
   },
   "outputs": [],
   "source": [
    "#Clean mismatched labels and images if any present\n",
    "\n",
    "path1 = \"/content/data/images\"\n",
    "path2 = \"/content/data/labels\"\n",
    "\n",
    "lis1 = []\n",
    "lis2 = []\n",
    "for i in tqdm(os.listdir(path1)):\n",
    "  temp = i.replace(\".jpg\", \"\")\n",
    "  lis1.append(temp)\n",
    "\n",
    "for i in tqdm(os.listdir(path2)):\n",
    "  temp = i.replace(\".txt\", \"\")\n",
    "  lis2.append(temp)\n",
    "\n",
    "if(len(lis1) > len(lis2)):\n",
    "  for item in lis1:\n",
    "    if(item not in lis2):\n",
    "      os.remove(os.path.join(path1, item+\".jpg\"))\n",
    "\n",
    "if(len(lis2) > len(lis1)):\n",
    "  for item in lis2:\n",
    "    if(item not in lis1):\n",
    "      os.remove(os.path.join(path2, item+\".txt\"))"
   ]
  },
  {
   "cell_type": "code",
   "execution_count": null,
   "metadata": {
    "colab": {
     "base_uri": "https://localhost:8080/"
    },
    "id": "iwNRHVAOWpKs",
    "outputId": "e9cecc5b-fdae-48d4-a150-315630a916f8"
   },
   "outputs": [],
   "source": [
    "len(os.listdir(\"/content/data/images\")), len(os.listdir(\"/content/data/labels\"))"
   ]
  },
  {
   "cell_type": "code",
   "execution_count": null,
   "metadata": {
    "id": "3wmbDfXVY0QE"
   },
   "outputs": [],
   "source": [
    "!rm -rf /content/final_data"
   ]
  },
  {
   "cell_type": "code",
   "execution_count": null,
   "metadata": {
    "colab": {
     "base_uri": "https://localhost:8080/"
    },
    "id": "sxjMhxVIMaXa",
    "outputId": "fd5ff4f9-cb1c-478d-a8d5-427edff12b14"
   },
   "outputs": [],
   "source": [
    "print(\"Number of images are \", len(os.listdir(\"/content/data/images\")))\n",
    "total_length = len(os.listdir(\"/content/data/images\"))\n",
    "!mkdir /content/final_data\n",
    "!mkdir /content/final_data/train\n",
    "!mkdir /content/final_data/validation\n",
    "!mkdir /content/final_data/train/images\n",
    "!mkdir /content/final_data/train/labels\n",
    "!mkdir /content/final_data/validation/images\n",
    "!mkdir /content/final_data/validation/labels"
   ]
  },
  {
   "cell_type": "code",
   "execution_count": null,
   "metadata": {
    "colab": {
     "base_uri": "https://localhost:8080/",
     "height": 49,
     "referenced_widgets": [
      "927f16710e8e44259b99826102c66930",
      "53edeb49329c4b34a79bc2221383d564",
      "1a11a3320c9b4122a5d3bde2b3aac8f0",
      "7fec57ed39be4722ab242e0b42be5dda",
      "e2401e0ec45344f68bdb95e5c9705cfd",
      "9c8dfc3e0e2849f4a1e9aaf7dd5026b7",
      "55021e9e6c884857b602ea2e819c7cad",
      "dff420a31fed40718b43c38fce0e0dde",
      "3e9fa50b62e34359a78c291163891d71",
      "d8f67468a0c144b09c819d8fd3f5be21",
      "1961cbf7a1d04617b4fc63786aead180"
     ]
    },
    "id": "kcMMvl9cMev-",
    "outputId": "9d7d04ec-1738-4062-bc19-a13090984e7b"
   },
   "outputs": [],
   "source": [
    "#Gotta divide it into training and validation sets\n",
    "\n",
    "lis = os.listdir(\"/content/data/images\")\n",
    "lis = random.sample(lis, len(lis)) #Randomize the whole data\n",
    "\n",
    "count = 0\n",
    "for i in tqdm(os.listdir(\"/content/data/images\")):\n",
    "  img_path = os.path.join(\"/content/data/images\", i)\n",
    "  img = cv2.imread(img_path)\n",
    "  annotation_path = os.path.join(\"/content/data/labels\", i.replace(\".jpg\",\".txt\"))\n",
    "  temp = open(annotation_path, \"r\")\n",
    "  temp = temp.read()\n",
    "  if (count%6 == 0):\n",
    "    new_annotation_path = os.path.join(\"/content/final_data/validation/labels\", i.replace(\".jpg\", \".txt\"))\n",
    "    with open(new_annotation_path, \"w\") as f:\n",
    "      f.write(temp)\n",
    "    new_img_path = os.path.join(\"/content/final_data/validation/images\", i)\n",
    "    cv2.imwrite(new_img_path, img)\n",
    "  else:\n",
    "    new_annotation_path = os.path.join(\"/content/final_data/train/labels\", i.replace(\".jpg\", \".txt\"))\n",
    "    with open(new_annotation_path, \"w\") as f:\n",
    "      f.write(temp)\n",
    "    new_img_path = os.path.join(\"/content/final_data/train/images\", i)\n",
    "    cv2.imwrite(new_img_path, img)\n",
    "  count = count+1"
   ]
  },
  {
   "cell_type": "code",
   "execution_count": null,
   "metadata": {
    "colab": {
     "base_uri": "https://localhost:8080/"
    },
    "id": "sSYwx-o8MfTB",
    "outputId": "03144d57-181b-4476-9b6d-358d3d23a817"
   },
   "outputs": [],
   "source": [
    "print(\"Number of training images are \", len(os.listdir(\"/content/final_data/train/images\")))\n",
    "print(\"Number of Validation images are\", len(os.listdir(\"/content/final_data/validation/images\")))"
   ]
  },
  {
   "cell_type": "code",
   "execution_count": null,
   "metadata": {
    "colab": {
     "base_uri": "https://localhost:8080/",
     "height": 36
    },
    "id": "niJEGH9--haI",
    "outputId": "cc095c19-1881-4b1a-fd97-21ae091783af"
   },
   "outputs": [],
   "source": [
    "# Create data.yaml\n",
    "\n",
    "'''\n",
    "train: training images absolute path\n",
    "val: validation images absolute path\n",
    "nc: number of classes\n",
    "names: class names in the order you have prepared your data in a list\n",
    "'''\n",
    "\n",
    "#Not including any script to create the data.yaml, please create it on your own\n",
    "\n",
    "'''\n",
    "train: /content/final_data/train/images\n",
    "val: /content/final_data/validation/images\n",
    "nc: 2\n",
    "classes: [\"number_plate\", \"vehicle\"]  #names: [\"number_plate\", \"vehicle\"]\n",
    "'''"
   ]
  },
  {
   "cell_type": "code",
   "execution_count": null,
   "metadata": {
    "id": "WjfILu5h1gMb"
   },
   "outputs": [],
   "source": [
    "!mkdir /content/temp"
   ]
  },
  {
   "cell_type": "code",
   "execution_count": null,
   "metadata": {
    "id": "VVwyG36n1iuW"
   },
   "outputs": [],
   "source": [
    "!unzip \"/content/object detection bounding box.v3i.yolov7pytorch.zip\" -d /content/temp"
   ]
  },
  {
   "cell_type": "code",
   "execution_count": null,
   "metadata": {
    "id": "c8GZJZt_1iq2"
   },
   "outputs": [],
   "source": [
    "!rm -rf \"/content/object detection bounding box.v3i.yolov7pytorch.zip\""
   ]
  },
  {
   "cell_type": "code",
   "execution_count": null,
   "metadata": {
    "id": "LSETBWWx1ioQ"
   },
   "outputs": [],
   "source": []
  },
  {
   "cell_type": "code",
   "execution_count": null,
   "metadata": {
    "id": "66wSG4A71il2"
   },
   "outputs": [],
   "source": []
  },
  {
   "cell_type": "code",
   "execution_count": null,
   "metadata": {
    "id": "XxbyLZvG1iXu"
   },
   "outputs": [],
   "source": []
  },
  {
   "cell_type": "markdown",
   "metadata": {
    "id": "RIy0KjkqLh4g"
   },
   "source": [
    "## Yolov8"
   ]
  },
  {
   "cell_type": "code",
   "execution_count": null,
   "metadata": {
    "id": "UwGv3lgZIvdw"
   },
   "outputs": [],
   "source": [
    "from ultralytics import YOLO"
   ]
  },
  {
   "cell_type": "code",
   "execution_count": null,
   "metadata": {
    "colab": {
     "base_uri": "https://localhost:8080/"
    },
    "id": "NyZ7P_JNLo1u",
    "outputId": "fffacb92-32d6-4a63-a99b-4fe7937b1709"
   },
   "outputs": [],
   "source": [
    "model = YOLO(\"yolov8s.pt\")"
   ]
  },
  {
   "cell_type": "code",
   "execution_count": null,
   "metadata": {
    "colab": {
     "base_uri": "https://localhost:8080/"
    },
    "id": "WnhV9xWjL8kV",
    "outputId": "98de6f95-92b7-471f-bf51-2f256c22c6ea"
   },
   "outputs": [],
   "source": [
    "model.train(data=\"/content/data.yaml\",\n",
    "            epochs=20,\n",
    "            imgsz=640,\n",
    "            batch=-1,\n",
    "            device=0)"
   ]
  },
  {
   "cell_type": "code",
   "execution_count": null,
   "metadata": {
    "colab": {
     "base_uri": "https://localhost:8080/",
     "height": 34
    },
    "id": "BkD0z4eU9Wl6",
    "outputId": "16a1428a-d9e5-4e35-d903-62c9683b7879"
   },
   "outputs": [],
   "source": [
    "from google.colab import files\n",
    "files.download(\"/content/runs/detect/train4/weights/best.pt\")"
   ]
  },
  {
   "cell_type": "markdown",
   "metadata": {
    "id": "28tjZj6FHvIQ"
   },
   "source": [
    "### Yolov8 Export and Testing"
   ]
  },
  {
   "cell_type": "code",
   "execution_count": null,
   "metadata": {
    "id": "7dsKICcTHual"
   },
   "outputs": [],
   "source": [
    "from ultralytics import YOLO"
   ]
  },
  {
   "cell_type": "code",
   "execution_count": null,
   "metadata": {
    "id": "XzXOz8jFIyLh"
   },
   "outputs": [],
   "source": [
    "model = YOLO(\"/content/runs/detect/train2/weights/best.pt\")"
   ]
  },
  {
   "cell_type": "code",
   "execution_count": null,
   "metadata": {
    "colab": {
     "base_uri": "https://localhost:8080/",
     "height": 854
    },
    "id": "CULLhBu6Jc6N",
    "outputId": "7ba37770-b0a1-4940-9f28-7175d52c7485"
   },
   "outputs": [],
   "source": [
    "model.export(format=\"onnx\",\n",
    "             dynamic=True,\n",
    "             simplify=True)"
   ]
  },
  {
   "cell_type": "code",
   "execution_count": null,
   "metadata": {
    "id": "-tgRH_iQK6bS"
   },
   "outputs": [],
   "source": []
  },
  {
   "cell_type": "markdown",
   "metadata": {
    "id": "FfFNI0XXGrCk"
   },
   "source": [
    "## Yolov7"
   ]
  },
  {
   "cell_type": "code",
   "execution_count": null,
   "metadata": {
    "colab": {
     "base_uri": "https://localhost:8080/"
    },
    "id": "ahcGVDoeGsOg",
    "outputId": "e52a1b79-63ec-4902-9856-12446a9c76fb"
   },
   "outputs": [],
   "source": [
    "!git clone https://github.com/WongKinYiu/yolov7.git"
   ]
  },
  {
   "cell_type": "code",
   "execution_count": null,
   "metadata": {
    "colab": {
     "base_uri": "https://localhost:8080/"
    },
    "id": "2DfwajJWkcXg",
    "outputId": "e531a09b-b9c3-4baa-de73-83b62d73d8a7"
   },
   "outputs": [],
   "source": [
    "!gdown --fuzzy \"https://drive.google.com/file/d/1Nf6Rsliq4XSlPczzyjZlpoKsLawkPDsf/view?usp=sharing\""
   ]
  },
  {
   "cell_type": "code",
   "execution_count": null,
   "metadata": {
    "colab": {
     "base_uri": "https://localhost:8080/"
    },
    "id": "PomQNP8UsodU",
    "outputId": "ffdf2829-fe15-4699-ac85-a52a9ef5de8d"
   },
   "outputs": [],
   "source": [
    "!gdown --fuzzy \"https://drive.google.com/file/d/1pUx5dfIJ_4yOApVFxx8MuQPJ2NxDX069/view?usp=sharingt\""
   ]
  },
  {
   "cell_type": "code",
   "execution_count": null,
   "metadata": {
    "colab": {
     "base_uri": "https://localhost:8080/"
    },
    "id": "VQlRfCotGvmY",
    "outputId": "005861be-6dc7-435d-9318-f7d434ecc911"
   },
   "outputs": [],
   "source": [
    "# Finetuning\n",
    "!python yolov7/train.py --workers 8 --device 0 \\\n",
    " --batch-size 24 --data data.yaml --img 640 640 \\\n",
    " --cfg yolov7/cfg/training/yolov7.yaml \\\n",
    " --epochs 35 \\\n",
    " --weights /content/yolov7.pt --name yolov7-custom \\\n",
    " --hyp yolov7/data/hyp.scratch.custom.yaml"
   ]
  },
  {
   "cell_type": "code",
   "execution_count": null,
   "metadata": {
    "colab": {
     "base_uri": "https://localhost:8080/"
    },
    "id": "4dr2bAt7HSZA",
    "outputId": "aec1a9e8-b9e8-4079-d7ea-a69e7f57ca7d"
   },
   "outputs": [],
   "source": [
    "!python yolov7/detect.py --weights /content/best.pt \\\n",
    "--source /content/toll_test.jpg"
   ]
  },
  {
   "cell_type": "code",
   "execution_count": null,
   "metadata": {
    "colab": {
     "base_uri": "https://localhost:8080/",
     "height": 17
    },
    "id": "G9rZvToTuyQr",
    "outputId": "999dde0a-c285-4c72-b783-13faebf07cf6"
   },
   "outputs": [],
   "source": [
    "from google.colab import files\n",
    "files.download(\"/content/runs/train/yolov7-custom4/weights/best.pt\")"
   ]
  },
  {
   "cell_type": "code",
   "execution_count": null,
   "metadata": {
    "colab": {
     "base_uri": "https://localhost:8080/"
    },
    "id": "wTtIu7jFt7G1",
    "outputId": "bd98eb3d-1a97-4021-90fe-b871e53fc85d"
   },
   "outputs": [],
   "source": [
    "!python yolov7/export.py --weights \"/content/best.pt\" --grid --end2end --simplify \\\n",
    " --topk-all 100 --iou-thres 0.65 --conf-thres 0.50 --img-size 640 640 --max-wh 640"
   ]
  },
  {
   "cell_type": "code",
   "execution_count": null,
   "metadata": {
    "id": "pxYGxAg6uNVL"
   },
   "outputs": [],
   "source": []
  }
 ],
 "metadata": {
  "accelerator": "GPU",
  "colab": {
   "collapsed_sections": [
    "A1J7hc4dOEWG",
    "VZvzgbFE6ZGA",
    "RIy0KjkqLh4g"
   ],
   "gpuType": "T4",
   "provenance": []
  },
  "kernelspec": {
   "display_name": "Python 3 (ipykernel)",
   "language": "python",
   "name": "python3"
  },
  "language_info": {
   "codemirror_mode": {
    "name": "ipython",
    "version": 3
   },
   "file_extension": ".py",
   "mimetype": "text/x-python",
   "name": "python",
   "nbconvert_exporter": "python",
   "pygments_lexer": "ipython3",
   "version": "3.9.19"
  },
  "widgets": {
   "application/vnd.jupyter.widget-state+json": {
    "0437e72f97a44899b837c69da3d7d68b": {
     "model_module": "@jupyter-widgets/controls",
     "model_module_version": "1.5.0",
     "model_name": "HTMLModel",
     "state": {
      "_dom_classes": [],
      "_model_module": "@jupyter-widgets/controls",
      "_model_module_version": "1.5.0",
      "_model_name": "HTMLModel",
      "_view_count": null,
      "_view_module": "@jupyter-widgets/controls",
      "_view_module_version": "1.5.0",
      "_view_name": "HTMLView",
      "description": "",
      "description_tooltip": null,
      "layout": "IPY_MODEL_ac6d2681b5b04a2bbbea2440281a6fed",
      "placeholder": "​",
      "style": "IPY_MODEL_a176ff7fd16448cf9ed33ffffd1383e2",
      "value": " 538/538 [00:03&lt;00:00, 152.80it/s]"
     }
    },
    "087e974229864fca95339b52ebe261ca": {
     "model_module": "@jupyter-widgets/base",
     "model_module_version": "1.2.0",
     "model_name": "LayoutModel",
     "state": {
      "_model_module": "@jupyter-widgets/base",
      "_model_module_version": "1.2.0",
      "_model_name": "LayoutModel",
      "_view_count": null,
      "_view_module": "@jupyter-widgets/base",
      "_view_module_version": "1.2.0",
      "_view_name": "LayoutView",
      "align_content": null,
      "align_items": null,
      "align_self": null,
      "border": null,
      "bottom": null,
      "display": null,
      "flex": null,
      "flex_flow": null,
      "grid_area": null,
      "grid_auto_columns": null,
      "grid_auto_flow": null,
      "grid_auto_rows": null,
      "grid_column": null,
      "grid_gap": null,
      "grid_row": null,
      "grid_template_areas": null,
      "grid_template_columns": null,
      "grid_template_rows": null,
      "height": null,
      "justify_content": null,
      "justify_items": null,
      "left": null,
      "margin": null,
      "max_height": null,
      "max_width": null,
      "min_height": null,
      "min_width": null,
      "object_fit": null,
      "object_position": null,
      "order": null,
      "overflow": null,
      "overflow_x": null,
      "overflow_y": null,
      "padding": null,
      "right": null,
      "top": null,
      "visibility": null,
      "width": null
     }
    },
    "12f0dedbea8f43bc8212266b33f44029": {
     "model_module": "@jupyter-widgets/base",
     "model_module_version": "1.2.0",
     "model_name": "LayoutModel",
     "state": {
      "_model_module": "@jupyter-widgets/base",
      "_model_module_version": "1.2.0",
      "_model_name": "LayoutModel",
      "_view_count": null,
      "_view_module": "@jupyter-widgets/base",
      "_view_module_version": "1.2.0",
      "_view_name": "LayoutView",
      "align_content": null,
      "align_items": null,
      "align_self": null,
      "border": null,
      "bottom": null,
      "display": null,
      "flex": null,
      "flex_flow": null,
      "grid_area": null,
      "grid_auto_columns": null,
      "grid_auto_flow": null,
      "grid_auto_rows": null,
      "grid_column": null,
      "grid_gap": null,
      "grid_row": null,
      "grid_template_areas": null,
      "grid_template_columns": null,
      "grid_template_rows": null,
      "height": null,
      "justify_content": null,
      "justify_items": null,
      "left": null,
      "margin": null,
      "max_height": null,
      "max_width": null,
      "min_height": null,
      "min_width": null,
      "object_fit": null,
      "object_position": null,
      "order": null,
      "overflow": null,
      "overflow_x": null,
      "overflow_y": null,
      "padding": null,
      "right": null,
      "top": null,
      "visibility": null,
      "width": null
     }
    },
    "152a9d5e58614eae899e781e77c057ee": {
     "model_module": "@jupyter-widgets/controls",
     "model_module_version": "1.5.0",
     "model_name": "FloatProgressModel",
     "state": {
      "_dom_classes": [],
      "_model_module": "@jupyter-widgets/controls",
      "_model_module_version": "1.5.0",
      "_model_name": "FloatProgressModel",
      "_view_count": null,
      "_view_module": "@jupyter-widgets/controls",
      "_view_module_version": "1.5.0",
      "_view_name": "ProgressView",
      "bar_style": "success",
      "description": "",
      "description_tooltip": null,
      "layout": "IPY_MODEL_181d1ba9ea6f4146aa29e93b14673767",
      "max": 1794,
      "min": 0,
      "orientation": "horizontal",
      "style": "IPY_MODEL_3d0edd6b64444907af223072afb181aa",
      "value": 1794
     }
    },
    "181d1ba9ea6f4146aa29e93b14673767": {
     "model_module": "@jupyter-widgets/base",
     "model_module_version": "1.2.0",
     "model_name": "LayoutModel",
     "state": {
      "_model_module": "@jupyter-widgets/base",
      "_model_module_version": "1.2.0",
      "_model_name": "LayoutModel",
      "_view_count": null,
      "_view_module": "@jupyter-widgets/base",
      "_view_module_version": "1.2.0",
      "_view_name": "LayoutView",
      "align_content": null,
      "align_items": null,
      "align_self": null,
      "border": null,
      "bottom": null,
      "display": null,
      "flex": null,
      "flex_flow": null,
      "grid_area": null,
      "grid_auto_columns": null,
      "grid_auto_flow": null,
      "grid_auto_rows": null,
      "grid_column": null,
      "grid_gap": null,
      "grid_row": null,
      "grid_template_areas": null,
      "grid_template_columns": null,
      "grid_template_rows": null,
      "height": null,
      "justify_content": null,
      "justify_items": null,
      "left": null,
      "margin": null,
      "max_height": null,
      "max_width": null,
      "min_height": null,
      "min_width": null,
      "object_fit": null,
      "object_position": null,
      "order": null,
      "overflow": null,
      "overflow_x": null,
      "overflow_y": null,
      "padding": null,
      "right": null,
      "top": null,
      "visibility": null,
      "width": null
     }
    },
    "18435455e5e247a089f50ce13fed8a1f": {
     "model_module": "@jupyter-widgets/controls",
     "model_module_version": "1.5.0",
     "model_name": "FloatProgressModel",
     "state": {
      "_dom_classes": [],
      "_model_module": "@jupyter-widgets/controls",
      "_model_module_version": "1.5.0",
      "_model_name": "FloatProgressModel",
      "_view_count": null,
      "_view_module": "@jupyter-widgets/controls",
      "_view_module_version": "1.5.0",
      "_view_name": "ProgressView",
      "bar_style": "success",
      "description": "",
      "description_tooltip": null,
      "layout": "IPY_MODEL_12f0dedbea8f43bc8212266b33f44029",
      "max": 738,
      "min": 0,
      "orientation": "horizontal",
      "style": "IPY_MODEL_33b64cf89d994a908b70c8ce1b1db2e8",
      "value": 738
     }
    },
    "18cce28193a14fa0bd87fe8b328add5e": {
     "model_module": "@jupyter-widgets/base",
     "model_module_version": "1.2.0",
     "model_name": "LayoutModel",
     "state": {
      "_model_module": "@jupyter-widgets/base",
      "_model_module_version": "1.2.0",
      "_model_name": "LayoutModel",
      "_view_count": null,
      "_view_module": "@jupyter-widgets/base",
      "_view_module_version": "1.2.0",
      "_view_name": "LayoutView",
      "align_content": null,
      "align_items": null,
      "align_self": null,
      "border": null,
      "bottom": null,
      "display": null,
      "flex": null,
      "flex_flow": null,
      "grid_area": null,
      "grid_auto_columns": null,
      "grid_auto_flow": null,
      "grid_auto_rows": null,
      "grid_column": null,
      "grid_gap": null,
      "grid_row": null,
      "grid_template_areas": null,
      "grid_template_columns": null,
      "grid_template_rows": null,
      "height": null,
      "justify_content": null,
      "justify_items": null,
      "left": null,
      "margin": null,
      "max_height": null,
      "max_width": null,
      "min_height": null,
      "min_width": null,
      "object_fit": null,
      "object_position": null,
      "order": null,
      "overflow": null,
      "overflow_x": null,
      "overflow_y": null,
      "padding": null,
      "right": null,
      "top": null,
      "visibility": null,
      "width": null
     }
    },
    "1961cbf7a1d04617b4fc63786aead180": {
     "model_module": "@jupyter-widgets/controls",
     "model_module_version": "1.5.0",
     "model_name": "DescriptionStyleModel",
     "state": {
      "_model_module": "@jupyter-widgets/controls",
      "_model_module_version": "1.5.0",
      "_model_name": "DescriptionStyleModel",
      "_view_count": null,
      "_view_module": "@jupyter-widgets/base",
      "_view_module_version": "1.2.0",
      "_view_name": "StyleView",
      "description_width": ""
     }
    },
    "1a11a3320c9b4122a5d3bde2b3aac8f0": {
     "model_module": "@jupyter-widgets/controls",
     "model_module_version": "1.5.0",
     "model_name": "FloatProgressModel",
     "state": {
      "_dom_classes": [],
      "_model_module": "@jupyter-widgets/controls",
      "_model_module_version": "1.5.0",
      "_model_name": "FloatProgressModel",
      "_view_count": null,
      "_view_module": "@jupyter-widgets/controls",
      "_view_module_version": "1.5.0",
      "_view_name": "ProgressView",
      "bar_style": "success",
      "description": "",
      "description_tooltip": null,
      "layout": "IPY_MODEL_dff420a31fed40718b43c38fce0e0dde",
      "max": 1794,
      "min": 0,
      "orientation": "horizontal",
      "style": "IPY_MODEL_3e9fa50b62e34359a78c291163891d71",
      "value": 1794
     }
    },
    "1e38a197bd5f4f3c9db52c14d4565e44": {
     "model_module": "@jupyter-widgets/base",
     "model_module_version": "1.2.0",
     "model_name": "LayoutModel",
     "state": {
      "_model_module": "@jupyter-widgets/base",
      "_model_module_version": "1.2.0",
      "_model_name": "LayoutModel",
      "_view_count": null,
      "_view_module": "@jupyter-widgets/base",
      "_view_module_version": "1.2.0",
      "_view_name": "LayoutView",
      "align_content": null,
      "align_items": null,
      "align_self": null,
      "border": null,
      "bottom": null,
      "display": null,
      "flex": null,
      "flex_flow": null,
      "grid_area": null,
      "grid_auto_columns": null,
      "grid_auto_flow": null,
      "grid_auto_rows": null,
      "grid_column": null,
      "grid_gap": null,
      "grid_row": null,
      "grid_template_areas": null,
      "grid_template_columns": null,
      "grid_template_rows": null,
      "height": null,
      "justify_content": null,
      "justify_items": null,
      "left": null,
      "margin": null,
      "max_height": null,
      "max_width": null,
      "min_height": null,
      "min_width": null,
      "object_fit": null,
      "object_position": null,
      "order": null,
      "overflow": null,
      "overflow_x": null,
      "overflow_y": null,
      "padding": null,
      "right": null,
      "top": null,
      "visibility": null,
      "width": null
     }
    },
    "287f897707ce4152882a5b639e80b5e9": {
     "model_module": "@jupyter-widgets/controls",
     "model_module_version": "1.5.0",
     "model_name": "HBoxModel",
     "state": {
      "_dom_classes": [],
      "_model_module": "@jupyter-widgets/controls",
      "_model_module_version": "1.5.0",
      "_model_name": "HBoxModel",
      "_view_count": null,
      "_view_module": "@jupyter-widgets/controls",
      "_view_module_version": "1.5.0",
      "_view_name": "HBoxView",
      "box_style": "",
      "children": [
       "IPY_MODEL_3f8244f31bc84a47a413ba55f825967c",
       "IPY_MODEL_152a9d5e58614eae899e781e77c057ee",
       "IPY_MODEL_498ac06af5dc439e828c42bef5c2500d"
      ],
      "layout": "IPY_MODEL_087e974229864fca95339b52ebe261ca"
     }
    },
    "2cf48d478632442699f25135dd97eff4": {
     "model_module": "@jupyter-widgets/controls",
     "model_module_version": "1.5.0",
     "model_name": "ProgressStyleModel",
     "state": {
      "_model_module": "@jupyter-widgets/controls",
      "_model_module_version": "1.5.0",
      "_model_name": "ProgressStyleModel",
      "_view_count": null,
      "_view_module": "@jupyter-widgets/base",
      "_view_module_version": "1.2.0",
      "_view_name": "StyleView",
      "bar_color": null,
      "description_width": ""
     }
    },
    "2d8a9495056f481ba539cfb13b0514f8": {
     "model_module": "@jupyter-widgets/controls",
     "model_module_version": "1.5.0",
     "model_name": "FloatProgressModel",
     "state": {
      "_dom_classes": [],
      "_model_module": "@jupyter-widgets/controls",
      "_model_module_version": "1.5.0",
      "_model_name": "FloatProgressModel",
      "_view_count": null,
      "_view_module": "@jupyter-widgets/controls",
      "_view_module_version": "1.5.0",
      "_view_name": "ProgressView",
      "bar_style": "success",
      "description": "",
      "description_tooltip": null,
      "layout": "IPY_MODEL_7ed78886d8184d23b9209c4a777d8cab",
      "max": 1794,
      "min": 0,
      "orientation": "horizontal",
      "style": "IPY_MODEL_dc831fadeefe4046b5a4aff18e114bda",
      "value": 1794
     }
    },
    "2ec19a16c87b4beba546d05df6cfe415": {
     "model_module": "@jupyter-widgets/controls",
     "model_module_version": "1.5.0",
     "model_name": "HTMLModel",
     "state": {
      "_dom_classes": [],
      "_model_module": "@jupyter-widgets/controls",
      "_model_module_version": "1.5.0",
      "_model_name": "HTMLModel",
      "_view_count": null,
      "_view_module": "@jupyter-widgets/controls",
      "_view_module_version": "1.5.0",
      "_view_name": "HTMLView",
      "description": "",
      "description_tooltip": null,
      "layout": "IPY_MODEL_321216f4cde3403aa687f3713515f001",
      "placeholder": "​",
      "style": "IPY_MODEL_fac3d9777d05419c9566ba098a426df7",
      "value": " 1794/1794 [00:00&lt;00:00, 80262.20it/s]"
     }
    },
    "321216f4cde3403aa687f3713515f001": {
     "model_module": "@jupyter-widgets/base",
     "model_module_version": "1.2.0",
     "model_name": "LayoutModel",
     "state": {
      "_model_module": "@jupyter-widgets/base",
      "_model_module_version": "1.2.0",
      "_model_name": "LayoutModel",
      "_view_count": null,
      "_view_module": "@jupyter-widgets/base",
      "_view_module_version": "1.2.0",
      "_view_name": "LayoutView",
      "align_content": null,
      "align_items": null,
      "align_self": null,
      "border": null,
      "bottom": null,
      "display": null,
      "flex": null,
      "flex_flow": null,
      "grid_area": null,
      "grid_auto_columns": null,
      "grid_auto_flow": null,
      "grid_auto_rows": null,
      "grid_column": null,
      "grid_gap": null,
      "grid_row": null,
      "grid_template_areas": null,
      "grid_template_columns": null,
      "grid_template_rows": null,
      "height": null,
      "justify_content": null,
      "justify_items": null,
      "left": null,
      "margin": null,
      "max_height": null,
      "max_width": null,
      "min_height": null,
      "min_width": null,
      "object_fit": null,
      "object_position": null,
      "order": null,
      "overflow": null,
      "overflow_x": null,
      "overflow_y": null,
      "padding": null,
      "right": null,
      "top": null,
      "visibility": null,
      "width": null
     }
    },
    "3246abfed3654310a286f3db7f1dcc10": {
     "model_module": "@jupyter-widgets/controls",
     "model_module_version": "1.5.0",
     "model_name": "DescriptionStyleModel",
     "state": {
      "_model_module": "@jupyter-widgets/controls",
      "_model_module_version": "1.5.0",
      "_model_name": "DescriptionStyleModel",
      "_view_count": null,
      "_view_module": "@jupyter-widgets/base",
      "_view_module_version": "1.2.0",
      "_view_name": "StyleView",
      "description_width": ""
     }
    },
    "33b64cf89d994a908b70c8ce1b1db2e8": {
     "model_module": "@jupyter-widgets/controls",
     "model_module_version": "1.5.0",
     "model_name": "ProgressStyleModel",
     "state": {
      "_model_module": "@jupyter-widgets/controls",
      "_model_module_version": "1.5.0",
      "_model_name": "ProgressStyleModel",
      "_view_count": null,
      "_view_module": "@jupyter-widgets/base",
      "_view_module_version": "1.2.0",
      "_view_name": "StyleView",
      "bar_color": null,
      "description_width": ""
     }
    },
    "34715520bd2147a39a7acaca4527b5c6": {
     "model_module": "@jupyter-widgets/controls",
     "model_module_version": "1.5.0",
     "model_name": "HBoxModel",
     "state": {
      "_dom_classes": [],
      "_model_module": "@jupyter-widgets/controls",
      "_model_module_version": "1.5.0",
      "_model_name": "HBoxModel",
      "_view_count": null,
      "_view_module": "@jupyter-widgets/controls",
      "_view_module_version": "1.5.0",
      "_view_name": "HBoxView",
      "box_style": "",
      "children": [
       "IPY_MODEL_ee47a5e958354511a003a936a3f79329",
       "IPY_MODEL_cf67dc8f680b4ee9853f3cc2455873cd",
       "IPY_MODEL_8a2892a7b70340b58fef92bdc245bbf9"
      ],
      "layout": "IPY_MODEL_59e79f6f83ff48e088a0b9d935d481f6"
     }
    },
    "34ca8fd68447442facc3ef20f3c74ec9": {
     "model_module": "@jupyter-widgets/base",
     "model_module_version": "1.2.0",
     "model_name": "LayoutModel",
     "state": {
      "_model_module": "@jupyter-widgets/base",
      "_model_module_version": "1.2.0",
      "_model_name": "LayoutModel",
      "_view_count": null,
      "_view_module": "@jupyter-widgets/base",
      "_view_module_version": "1.2.0",
      "_view_name": "LayoutView",
      "align_content": null,
      "align_items": null,
      "align_self": null,
      "border": null,
      "bottom": null,
      "display": null,
      "flex": null,
      "flex_flow": null,
      "grid_area": null,
      "grid_auto_columns": null,
      "grid_auto_flow": null,
      "grid_auto_rows": null,
      "grid_column": null,
      "grid_gap": null,
      "grid_row": null,
      "grid_template_areas": null,
      "grid_template_columns": null,
      "grid_template_rows": null,
      "height": null,
      "justify_content": null,
      "justify_items": null,
      "left": null,
      "margin": null,
      "max_height": null,
      "max_width": null,
      "min_height": null,
      "min_width": null,
      "object_fit": null,
      "object_position": null,
      "order": null,
      "overflow": null,
      "overflow_x": null,
      "overflow_y": null,
      "padding": null,
      "right": null,
      "top": null,
      "visibility": null,
      "width": null
     }
    },
    "3d0edd6b64444907af223072afb181aa": {
     "model_module": "@jupyter-widgets/controls",
     "model_module_version": "1.5.0",
     "model_name": "ProgressStyleModel",
     "state": {
      "_model_module": "@jupyter-widgets/controls",
      "_model_module_version": "1.5.0",
      "_model_name": "ProgressStyleModel",
      "_view_count": null,
      "_view_module": "@jupyter-widgets/base",
      "_view_module_version": "1.2.0",
      "_view_name": "StyleView",
      "bar_color": null,
      "description_width": ""
     }
    },
    "3dffee2368574e41b53b3e1af2636817": {
     "model_module": "@jupyter-widgets/base",
     "model_module_version": "1.2.0",
     "model_name": "LayoutModel",
     "state": {
      "_model_module": "@jupyter-widgets/base",
      "_model_module_version": "1.2.0",
      "_model_name": "LayoutModel",
      "_view_count": null,
      "_view_module": "@jupyter-widgets/base",
      "_view_module_version": "1.2.0",
      "_view_name": "LayoutView",
      "align_content": null,
      "align_items": null,
      "align_self": null,
      "border": null,
      "bottom": null,
      "display": null,
      "flex": null,
      "flex_flow": null,
      "grid_area": null,
      "grid_auto_columns": null,
      "grid_auto_flow": null,
      "grid_auto_rows": null,
      "grid_column": null,
      "grid_gap": null,
      "grid_row": null,
      "grid_template_areas": null,
      "grid_template_columns": null,
      "grid_template_rows": null,
      "height": null,
      "justify_content": null,
      "justify_items": null,
      "left": null,
      "margin": null,
      "max_height": null,
      "max_width": null,
      "min_height": null,
      "min_width": null,
      "object_fit": null,
      "object_position": null,
      "order": null,
      "overflow": null,
      "overflow_x": null,
      "overflow_y": null,
      "padding": null,
      "right": null,
      "top": null,
      "visibility": null,
      "width": null
     }
    },
    "3e9fa50b62e34359a78c291163891d71": {
     "model_module": "@jupyter-widgets/controls",
     "model_module_version": "1.5.0",
     "model_name": "ProgressStyleModel",
     "state": {
      "_model_module": "@jupyter-widgets/controls",
      "_model_module_version": "1.5.0",
      "_model_name": "ProgressStyleModel",
      "_view_count": null,
      "_view_module": "@jupyter-widgets/base",
      "_view_module_version": "1.2.0",
      "_view_name": "StyleView",
      "bar_color": null,
      "description_width": ""
     }
    },
    "3f8244f31bc84a47a413ba55f825967c": {
     "model_module": "@jupyter-widgets/controls",
     "model_module_version": "1.5.0",
     "model_name": "HTMLModel",
     "state": {
      "_dom_classes": [],
      "_model_module": "@jupyter-widgets/controls",
      "_model_module_version": "1.5.0",
      "_model_name": "HTMLModel",
      "_view_count": null,
      "_view_module": "@jupyter-widgets/controls",
      "_view_module_version": "1.5.0",
      "_view_name": "HTMLView",
      "description": "",
      "description_tooltip": null,
      "layout": "IPY_MODEL_94ac4224d8cc4a64b25788cdef50311a",
      "placeholder": "​",
      "style": "IPY_MODEL_e60618fdf99f4f06afbe5caf1c610e89",
      "value": "100%"
     }
    },
    "498ac06af5dc439e828c42bef5c2500d": {
     "model_module": "@jupyter-widgets/controls",
     "model_module_version": "1.5.0",
     "model_name": "HTMLModel",
     "state": {
      "_dom_classes": [],
      "_model_module": "@jupyter-widgets/controls",
      "_model_module_version": "1.5.0",
      "_model_name": "HTMLModel",
      "_view_count": null,
      "_view_module": "@jupyter-widgets/controls",
      "_view_module_version": "1.5.0",
      "_view_name": "HTMLView",
      "description": "",
      "description_tooltip": null,
      "layout": "IPY_MODEL_a0792002290e47e9beed05210bf51a96",
      "placeholder": "​",
      "style": "IPY_MODEL_5c86106f74e94e3e987b32c7c894d565",
      "value": " 1794/1794 [00:00&lt;00:00, 80334.18it/s]"
     }
    },
    "53edeb49329c4b34a79bc2221383d564": {
     "model_module": "@jupyter-widgets/controls",
     "model_module_version": "1.5.0",
     "model_name": "HTMLModel",
     "state": {
      "_dom_classes": [],
      "_model_module": "@jupyter-widgets/controls",
      "_model_module_version": "1.5.0",
      "_model_name": "HTMLModel",
      "_view_count": null,
      "_view_module": "@jupyter-widgets/controls",
      "_view_module_version": "1.5.0",
      "_view_name": "HTMLView",
      "description": "",
      "description_tooltip": null,
      "layout": "IPY_MODEL_9c8dfc3e0e2849f4a1e9aaf7dd5026b7",
      "placeholder": "​",
      "style": "IPY_MODEL_55021e9e6c884857b602ea2e819c7cad",
      "value": "100%"
     }
    },
    "55021e9e6c884857b602ea2e819c7cad": {
     "model_module": "@jupyter-widgets/controls",
     "model_module_version": "1.5.0",
     "model_name": "DescriptionStyleModel",
     "state": {
      "_model_module": "@jupyter-widgets/controls",
      "_model_module_version": "1.5.0",
      "_model_name": "DescriptionStyleModel",
      "_view_count": null,
      "_view_module": "@jupyter-widgets/base",
      "_view_module_version": "1.2.0",
      "_view_name": "StyleView",
      "description_width": ""
     }
    },
    "59e79f6f83ff48e088a0b9d935d481f6": {
     "model_module": "@jupyter-widgets/base",
     "model_module_version": "1.2.0",
     "model_name": "LayoutModel",
     "state": {
      "_model_module": "@jupyter-widgets/base",
      "_model_module_version": "1.2.0",
      "_model_name": "LayoutModel",
      "_view_count": null,
      "_view_module": "@jupyter-widgets/base",
      "_view_module_version": "1.2.0",
      "_view_name": "LayoutView",
      "align_content": null,
      "align_items": null,
      "align_self": null,
      "border": null,
      "bottom": null,
      "display": null,
      "flex": null,
      "flex_flow": null,
      "grid_area": null,
      "grid_auto_columns": null,
      "grid_auto_flow": null,
      "grid_auto_rows": null,
      "grid_column": null,
      "grid_gap": null,
      "grid_row": null,
      "grid_template_areas": null,
      "grid_template_columns": null,
      "grid_template_rows": null,
      "height": null,
      "justify_content": null,
      "justify_items": null,
      "left": null,
      "margin": null,
      "max_height": null,
      "max_width": null,
      "min_height": null,
      "min_width": null,
      "object_fit": null,
      "object_position": null,
      "order": null,
      "overflow": null,
      "overflow_x": null,
      "overflow_y": null,
      "padding": null,
      "right": null,
      "top": null,
      "visibility": null,
      "width": null
     }
    },
    "5c86106f74e94e3e987b32c7c894d565": {
     "model_module": "@jupyter-widgets/controls",
     "model_module_version": "1.5.0",
     "model_name": "DescriptionStyleModel",
     "state": {
      "_model_module": "@jupyter-widgets/controls",
      "_model_module_version": "1.5.0",
      "_model_name": "DescriptionStyleModel",
      "_view_count": null,
      "_view_module": "@jupyter-widgets/base",
      "_view_module_version": "1.2.0",
      "_view_name": "StyleView",
      "description_width": ""
     }
    },
    "6635cb942b234bac8b2f70bf1e544790": {
     "model_module": "@jupyter-widgets/controls",
     "model_module_version": "1.5.0",
     "model_name": "DescriptionStyleModel",
     "state": {
      "_model_module": "@jupyter-widgets/controls",
      "_model_module_version": "1.5.0",
      "_model_name": "DescriptionStyleModel",
      "_view_count": null,
      "_view_module": "@jupyter-widgets/base",
      "_view_module_version": "1.2.0",
      "_view_name": "StyleView",
      "description_width": ""
     }
    },
    "784e4e3c8a4b47359533406b90baa3fa": {
     "model_module": "@jupyter-widgets/controls",
     "model_module_version": "1.5.0",
     "model_name": "HTMLModel",
     "state": {
      "_dom_classes": [],
      "_model_module": "@jupyter-widgets/controls",
      "_model_module_version": "1.5.0",
      "_model_name": "HTMLModel",
      "_view_count": null,
      "_view_module": "@jupyter-widgets/controls",
      "_view_module_version": "1.5.0",
      "_view_name": "HTMLView",
      "description": "",
      "description_tooltip": null,
      "layout": "IPY_MODEL_1e38a197bd5f4f3c9db52c14d4565e44",
      "placeholder": "​",
      "style": "IPY_MODEL_b15447381e4f432d879e77be8d0a7956",
      "value": " 738/738 [00:30&lt;00:00, 21.46it/s]"
     }
    },
    "7911e112c8904f09a52ad273bab82d75": {
     "model_module": "@jupyter-widgets/controls",
     "model_module_version": "1.5.0",
     "model_name": "HTMLModel",
     "state": {
      "_dom_classes": [],
      "_model_module": "@jupyter-widgets/controls",
      "_model_module_version": "1.5.0",
      "_model_name": "HTMLModel",
      "_view_count": null,
      "_view_module": "@jupyter-widgets/controls",
      "_view_module_version": "1.5.0",
      "_view_name": "HTMLView",
      "description": "",
      "description_tooltip": null,
      "layout": "IPY_MODEL_d0b0fa70c3ec49c18e85d67c58075635",
      "placeholder": "​",
      "style": "IPY_MODEL_b15045b91372417faaf2ae9d7cc8ee53",
      "value": "100%"
     }
    },
    "7ed78886d8184d23b9209c4a777d8cab": {
     "model_module": "@jupyter-widgets/base",
     "model_module_version": "1.2.0",
     "model_name": "LayoutModel",
     "state": {
      "_model_module": "@jupyter-widgets/base",
      "_model_module_version": "1.2.0",
      "_model_name": "LayoutModel",
      "_view_count": null,
      "_view_module": "@jupyter-widgets/base",
      "_view_module_version": "1.2.0",
      "_view_name": "LayoutView",
      "align_content": null,
      "align_items": null,
      "align_self": null,
      "border": null,
      "bottom": null,
      "display": null,
      "flex": null,
      "flex_flow": null,
      "grid_area": null,
      "grid_auto_columns": null,
      "grid_auto_flow": null,
      "grid_auto_rows": null,
      "grid_column": null,
      "grid_gap": null,
      "grid_row": null,
      "grid_template_areas": null,
      "grid_template_columns": null,
      "grid_template_rows": null,
      "height": null,
      "justify_content": null,
      "justify_items": null,
      "left": null,
      "margin": null,
      "max_height": null,
      "max_width": null,
      "min_height": null,
      "min_width": null,
      "object_fit": null,
      "object_position": null,
      "order": null,
      "overflow": null,
      "overflow_x": null,
      "overflow_y": null,
      "padding": null,
      "right": null,
      "top": null,
      "visibility": null,
      "width": null
     }
    },
    "7fec57ed39be4722ab242e0b42be5dda": {
     "model_module": "@jupyter-widgets/controls",
     "model_module_version": "1.5.0",
     "model_name": "HTMLModel",
     "state": {
      "_dom_classes": [],
      "_model_module": "@jupyter-widgets/controls",
      "_model_module_version": "1.5.0",
      "_model_name": "HTMLModel",
      "_view_count": null,
      "_view_module": "@jupyter-widgets/controls",
      "_view_module_version": "1.5.0",
      "_view_name": "HTMLView",
      "description": "",
      "description_tooltip": null,
      "layout": "IPY_MODEL_d8f67468a0c144b09c819d8fd3f5be21",
      "placeholder": "​",
      "style": "IPY_MODEL_1961cbf7a1d04617b4fc63786aead180",
      "value": " 1794/1794 [00:43&lt;00:00, 18.76it/s]"
     }
    },
    "876c7c13141142ae88135d7083962019": {
     "model_module": "@jupyter-widgets/controls",
     "model_module_version": "1.5.0",
     "model_name": "ProgressStyleModel",
     "state": {
      "_model_module": "@jupyter-widgets/controls",
      "_model_module_version": "1.5.0",
      "_model_name": "ProgressStyleModel",
      "_view_count": null,
      "_view_module": "@jupyter-widgets/base",
      "_view_module_version": "1.2.0",
      "_view_name": "StyleView",
      "bar_color": null,
      "description_width": ""
     }
    },
    "8a2892a7b70340b58fef92bdc245bbf9": {
     "model_module": "@jupyter-widgets/controls",
     "model_module_version": "1.5.0",
     "model_name": "HTMLModel",
     "state": {
      "_dom_classes": [],
      "_model_module": "@jupyter-widgets/controls",
      "_model_module_version": "1.5.0",
      "_model_name": "HTMLModel",
      "_view_count": null,
      "_view_module": "@jupyter-widgets/controls",
      "_view_module_version": "1.5.0",
      "_view_name": "HTMLView",
      "description": "",
      "description_tooltip": null,
      "layout": "IPY_MODEL_34ca8fd68447442facc3ef20f3c74ec9",
      "placeholder": "​",
      "style": "IPY_MODEL_3246abfed3654310a286f3db7f1dcc10",
      "value": " 185/185 [00:10&lt;00:00, 19.77it/s]"
     }
    },
    "927f16710e8e44259b99826102c66930": {
     "model_module": "@jupyter-widgets/controls",
     "model_module_version": "1.5.0",
     "model_name": "HBoxModel",
     "state": {
      "_dom_classes": [],
      "_model_module": "@jupyter-widgets/controls",
      "_model_module_version": "1.5.0",
      "_model_name": "HBoxModel",
      "_view_count": null,
      "_view_module": "@jupyter-widgets/controls",
      "_view_module_version": "1.5.0",
      "_view_name": "HBoxView",
      "box_style": "",
      "children": [
       "IPY_MODEL_53edeb49329c4b34a79bc2221383d564",
       "IPY_MODEL_1a11a3320c9b4122a5d3bde2b3aac8f0",
       "IPY_MODEL_7fec57ed39be4722ab242e0b42be5dda"
      ],
      "layout": "IPY_MODEL_e2401e0ec45344f68bdb95e5c9705cfd"
     }
    },
    "94ac4224d8cc4a64b25788cdef50311a": {
     "model_module": "@jupyter-widgets/base",
     "model_module_version": "1.2.0",
     "model_name": "LayoutModel",
     "state": {
      "_model_module": "@jupyter-widgets/base",
      "_model_module_version": "1.2.0",
      "_model_name": "LayoutModel",
      "_view_count": null,
      "_view_module": "@jupyter-widgets/base",
      "_view_module_version": "1.2.0",
      "_view_name": "LayoutView",
      "align_content": null,
      "align_items": null,
      "align_self": null,
      "border": null,
      "bottom": null,
      "display": null,
      "flex": null,
      "flex_flow": null,
      "grid_area": null,
      "grid_auto_columns": null,
      "grid_auto_flow": null,
      "grid_auto_rows": null,
      "grid_column": null,
      "grid_gap": null,
      "grid_row": null,
      "grid_template_areas": null,
      "grid_template_columns": null,
      "grid_template_rows": null,
      "height": null,
      "justify_content": null,
      "justify_items": null,
      "left": null,
      "margin": null,
      "max_height": null,
      "max_width": null,
      "min_height": null,
      "min_width": null,
      "object_fit": null,
      "object_position": null,
      "order": null,
      "overflow": null,
      "overflow_x": null,
      "overflow_y": null,
      "padding": null,
      "right": null,
      "top": null,
      "visibility": null,
      "width": null
     }
    },
    "977947bb94a14c239929242164d17ccf": {
     "model_module": "@jupyter-widgets/controls",
     "model_module_version": "1.5.0",
     "model_name": "HTMLModel",
     "state": {
      "_dom_classes": [],
      "_model_module": "@jupyter-widgets/controls",
      "_model_module_version": "1.5.0",
      "_model_name": "HTMLModel",
      "_view_count": null,
      "_view_module": "@jupyter-widgets/controls",
      "_view_module_version": "1.5.0",
      "_view_name": "HTMLView",
      "description": "",
      "description_tooltip": null,
      "layout": "IPY_MODEL_18cce28193a14fa0bd87fe8b328add5e",
      "placeholder": "​",
      "style": "IPY_MODEL_e332e76828874a498346d9f92e3f43b9",
      "value": "100%"
     }
    },
    "9c8dfc3e0e2849f4a1e9aaf7dd5026b7": {
     "model_module": "@jupyter-widgets/base",
     "model_module_version": "1.2.0",
     "model_name": "LayoutModel",
     "state": {
      "_model_module": "@jupyter-widgets/base",
      "_model_module_version": "1.2.0",
      "_model_name": "LayoutModel",
      "_view_count": null,
      "_view_module": "@jupyter-widgets/base",
      "_view_module_version": "1.2.0",
      "_view_name": "LayoutView",
      "align_content": null,
      "align_items": null,
      "align_self": null,
      "border": null,
      "bottom": null,
      "display": null,
      "flex": null,
      "flex_flow": null,
      "grid_area": null,
      "grid_auto_columns": null,
      "grid_auto_flow": null,
      "grid_auto_rows": null,
      "grid_column": null,
      "grid_gap": null,
      "grid_row": null,
      "grid_template_areas": null,
      "grid_template_columns": null,
      "grid_template_rows": null,
      "height": null,
      "justify_content": null,
      "justify_items": null,
      "left": null,
      "margin": null,
      "max_height": null,
      "max_width": null,
      "min_height": null,
      "min_width": null,
      "object_fit": null,
      "object_position": null,
      "order": null,
      "overflow": null,
      "overflow_x": null,
      "overflow_y": null,
      "padding": null,
      "right": null,
      "top": null,
      "visibility": null,
      "width": null
     }
    },
    "a0792002290e47e9beed05210bf51a96": {
     "model_module": "@jupyter-widgets/base",
     "model_module_version": "1.2.0",
     "model_name": "LayoutModel",
     "state": {
      "_model_module": "@jupyter-widgets/base",
      "_model_module_version": "1.2.0",
      "_model_name": "LayoutModel",
      "_view_count": null,
      "_view_module": "@jupyter-widgets/base",
      "_view_module_version": "1.2.0",
      "_view_name": "LayoutView",
      "align_content": null,
      "align_items": null,
      "align_self": null,
      "border": null,
      "bottom": null,
      "display": null,
      "flex": null,
      "flex_flow": null,
      "grid_area": null,
      "grid_auto_columns": null,
      "grid_auto_flow": null,
      "grid_auto_rows": null,
      "grid_column": null,
      "grid_gap": null,
      "grid_row": null,
      "grid_template_areas": null,
      "grid_template_columns": null,
      "grid_template_rows": null,
      "height": null,
      "justify_content": null,
      "justify_items": null,
      "left": null,
      "margin": null,
      "max_height": null,
      "max_width": null,
      "min_height": null,
      "min_width": null,
      "object_fit": null,
      "object_position": null,
      "order": null,
      "overflow": null,
      "overflow_x": null,
      "overflow_y": null,
      "padding": null,
      "right": null,
      "top": null,
      "visibility": null,
      "width": null
     }
    },
    "a176ff7fd16448cf9ed33ffffd1383e2": {
     "model_module": "@jupyter-widgets/controls",
     "model_module_version": "1.5.0",
     "model_name": "DescriptionStyleModel",
     "state": {
      "_model_module": "@jupyter-widgets/controls",
      "_model_module_version": "1.5.0",
      "_model_name": "DescriptionStyleModel",
      "_view_count": null,
      "_view_module": "@jupyter-widgets/base",
      "_view_module_version": "1.2.0",
      "_view_name": "StyleView",
      "description_width": ""
     }
    },
    "a295ebb590fb40e2a72752eada7a378c": {
     "model_module": "@jupyter-widgets/base",
     "model_module_version": "1.2.0",
     "model_name": "LayoutModel",
     "state": {
      "_model_module": "@jupyter-widgets/base",
      "_model_module_version": "1.2.0",
      "_model_name": "LayoutModel",
      "_view_count": null,
      "_view_module": "@jupyter-widgets/base",
      "_view_module_version": "1.2.0",
      "_view_name": "LayoutView",
      "align_content": null,
      "align_items": null,
      "align_self": null,
      "border": null,
      "bottom": null,
      "display": null,
      "flex": null,
      "flex_flow": null,
      "grid_area": null,
      "grid_auto_columns": null,
      "grid_auto_flow": null,
      "grid_auto_rows": null,
      "grid_column": null,
      "grid_gap": null,
      "grid_row": null,
      "grid_template_areas": null,
      "grid_template_columns": null,
      "grid_template_rows": null,
      "height": null,
      "justify_content": null,
      "justify_items": null,
      "left": null,
      "margin": null,
      "max_height": null,
      "max_width": null,
      "min_height": null,
      "min_width": null,
      "object_fit": null,
      "object_position": null,
      "order": null,
      "overflow": null,
      "overflow_x": null,
      "overflow_y": null,
      "padding": null,
      "right": null,
      "top": null,
      "visibility": null,
      "width": null
     }
    },
    "ac6d2681b5b04a2bbbea2440281a6fed": {
     "model_module": "@jupyter-widgets/base",
     "model_module_version": "1.2.0",
     "model_name": "LayoutModel",
     "state": {
      "_model_module": "@jupyter-widgets/base",
      "_model_module_version": "1.2.0",
      "_model_name": "LayoutModel",
      "_view_count": null,
      "_view_module": "@jupyter-widgets/base",
      "_view_module_version": "1.2.0",
      "_view_name": "LayoutView",
      "align_content": null,
      "align_items": null,
      "align_self": null,
      "border": null,
      "bottom": null,
      "display": null,
      "flex": null,
      "flex_flow": null,
      "grid_area": null,
      "grid_auto_columns": null,
      "grid_auto_flow": null,
      "grid_auto_rows": null,
      "grid_column": null,
      "grid_gap": null,
      "grid_row": null,
      "grid_template_areas": null,
      "grid_template_columns": null,
      "grid_template_rows": null,
      "height": null,
      "justify_content": null,
      "justify_items": null,
      "left": null,
      "margin": null,
      "max_height": null,
      "max_width": null,
      "min_height": null,
      "min_width": null,
      "object_fit": null,
      "object_position": null,
      "order": null,
      "overflow": null,
      "overflow_x": null,
      "overflow_y": null,
      "padding": null,
      "right": null,
      "top": null,
      "visibility": null,
      "width": null
     }
    },
    "ae854d712f1c48ac8561a082043a63fd": {
     "model_module": "@jupyter-widgets/base",
     "model_module_version": "1.2.0",
     "model_name": "LayoutModel",
     "state": {
      "_model_module": "@jupyter-widgets/base",
      "_model_module_version": "1.2.0",
      "_model_name": "LayoutModel",
      "_view_count": null,
      "_view_module": "@jupyter-widgets/base",
      "_view_module_version": "1.2.0",
      "_view_name": "LayoutView",
      "align_content": null,
      "align_items": null,
      "align_self": null,
      "border": null,
      "bottom": null,
      "display": null,
      "flex": null,
      "flex_flow": null,
      "grid_area": null,
      "grid_auto_columns": null,
      "grid_auto_flow": null,
      "grid_auto_rows": null,
      "grid_column": null,
      "grid_gap": null,
      "grid_row": null,
      "grid_template_areas": null,
      "grid_template_columns": null,
      "grid_template_rows": null,
      "height": null,
      "justify_content": null,
      "justify_items": null,
      "left": null,
      "margin": null,
      "max_height": null,
      "max_width": null,
      "min_height": null,
      "min_width": null,
      "object_fit": null,
      "object_position": null,
      "order": null,
      "overflow": null,
      "overflow_x": null,
      "overflow_y": null,
      "padding": null,
      "right": null,
      "top": null,
      "visibility": null,
      "width": null
     }
    },
    "b15045b91372417faaf2ae9d7cc8ee53": {
     "model_module": "@jupyter-widgets/controls",
     "model_module_version": "1.5.0",
     "model_name": "DescriptionStyleModel",
     "state": {
      "_model_module": "@jupyter-widgets/controls",
      "_model_module_version": "1.5.0",
      "_model_name": "DescriptionStyleModel",
      "_view_count": null,
      "_view_module": "@jupyter-widgets/base",
      "_view_module_version": "1.2.0",
      "_view_name": "StyleView",
      "description_width": ""
     }
    },
    "b15447381e4f432d879e77be8d0a7956": {
     "model_module": "@jupyter-widgets/controls",
     "model_module_version": "1.5.0",
     "model_name": "DescriptionStyleModel",
     "state": {
      "_model_module": "@jupyter-widgets/controls",
      "_model_module_version": "1.5.0",
      "_model_name": "DescriptionStyleModel",
      "_view_count": null,
      "_view_module": "@jupyter-widgets/base",
      "_view_module_version": "1.2.0",
      "_view_name": "StyleView",
      "description_width": ""
     }
    },
    "bafedef149164afbac4c67e3462ef699": {
     "model_module": "@jupyter-widgets/base",
     "model_module_version": "1.2.0",
     "model_name": "LayoutModel",
     "state": {
      "_model_module": "@jupyter-widgets/base",
      "_model_module_version": "1.2.0",
      "_model_name": "LayoutModel",
      "_view_count": null,
      "_view_module": "@jupyter-widgets/base",
      "_view_module_version": "1.2.0",
      "_view_name": "LayoutView",
      "align_content": null,
      "align_items": null,
      "align_self": null,
      "border": null,
      "bottom": null,
      "display": null,
      "flex": null,
      "flex_flow": null,
      "grid_area": null,
      "grid_auto_columns": null,
      "grid_auto_flow": null,
      "grid_auto_rows": null,
      "grid_column": null,
      "grid_gap": null,
      "grid_row": null,
      "grid_template_areas": null,
      "grid_template_columns": null,
      "grid_template_rows": null,
      "height": null,
      "justify_content": null,
      "justify_items": null,
      "left": null,
      "margin": null,
      "max_height": null,
      "max_width": null,
      "min_height": null,
      "min_width": null,
      "object_fit": null,
      "object_position": null,
      "order": null,
      "overflow": null,
      "overflow_x": null,
      "overflow_y": null,
      "padding": null,
      "right": null,
      "top": null,
      "visibility": null,
      "width": null
     }
    },
    "c04163bd465a43478bfcb5768c8fda95": {
     "model_module": "@jupyter-widgets/controls",
     "model_module_version": "1.5.0",
     "model_name": "FloatProgressModel",
     "state": {
      "_dom_classes": [],
      "_model_module": "@jupyter-widgets/controls",
      "_model_module_version": "1.5.0",
      "_model_name": "FloatProgressModel",
      "_view_count": null,
      "_view_module": "@jupyter-widgets/controls",
      "_view_module_version": "1.5.0",
      "_view_name": "ProgressView",
      "bar_style": "success",
      "description": "",
      "description_tooltip": null,
      "layout": "IPY_MODEL_bafedef149164afbac4c67e3462ef699",
      "max": 538,
      "min": 0,
      "orientation": "horizontal",
      "style": "IPY_MODEL_2cf48d478632442699f25135dd97eff4",
      "value": 538
     }
    },
    "cf67dc8f680b4ee9853f3cc2455873cd": {
     "model_module": "@jupyter-widgets/controls",
     "model_module_version": "1.5.0",
     "model_name": "FloatProgressModel",
     "state": {
      "_dom_classes": [],
      "_model_module": "@jupyter-widgets/controls",
      "_model_module_version": "1.5.0",
      "_model_name": "FloatProgressModel",
      "_view_count": null,
      "_view_module": "@jupyter-widgets/controls",
      "_view_module_version": "1.5.0",
      "_view_name": "ProgressView",
      "bar_style": "success",
      "description": "",
      "description_tooltip": null,
      "layout": "IPY_MODEL_ae854d712f1c48ac8561a082043a63fd",
      "max": 185,
      "min": 0,
      "orientation": "horizontal",
      "style": "IPY_MODEL_876c7c13141142ae88135d7083962019",
      "value": 185
     }
    },
    "d0b0fa70c3ec49c18e85d67c58075635": {
     "model_module": "@jupyter-widgets/base",
     "model_module_version": "1.2.0",
     "model_name": "LayoutModel",
     "state": {
      "_model_module": "@jupyter-widgets/base",
      "_model_module_version": "1.2.0",
      "_model_name": "LayoutModel",
      "_view_count": null,
      "_view_module": "@jupyter-widgets/base",
      "_view_module_version": "1.2.0",
      "_view_name": "LayoutView",
      "align_content": null,
      "align_items": null,
      "align_self": null,
      "border": null,
      "bottom": null,
      "display": null,
      "flex": null,
      "flex_flow": null,
      "grid_area": null,
      "grid_auto_columns": null,
      "grid_auto_flow": null,
      "grid_auto_rows": null,
      "grid_column": null,
      "grid_gap": null,
      "grid_row": null,
      "grid_template_areas": null,
      "grid_template_columns": null,
      "grid_template_rows": null,
      "height": null,
      "justify_content": null,
      "justify_items": null,
      "left": null,
      "margin": null,
      "max_height": null,
      "max_width": null,
      "min_height": null,
      "min_width": null,
      "object_fit": null,
      "object_position": null,
      "order": null,
      "overflow": null,
      "overflow_x": null,
      "overflow_y": null,
      "padding": null,
      "right": null,
      "top": null,
      "visibility": null,
      "width": null
     }
    },
    "d6e212d8c6d8427e95fd3697e5301071": {
     "model_module": "@jupyter-widgets/base",
     "model_module_version": "1.2.0",
     "model_name": "LayoutModel",
     "state": {
      "_model_module": "@jupyter-widgets/base",
      "_model_module_version": "1.2.0",
      "_model_name": "LayoutModel",
      "_view_count": null,
      "_view_module": "@jupyter-widgets/base",
      "_view_module_version": "1.2.0",
      "_view_name": "LayoutView",
      "align_content": null,
      "align_items": null,
      "align_self": null,
      "border": null,
      "bottom": null,
      "display": null,
      "flex": null,
      "flex_flow": null,
      "grid_area": null,
      "grid_auto_columns": null,
      "grid_auto_flow": null,
      "grid_auto_rows": null,
      "grid_column": null,
      "grid_gap": null,
      "grid_row": null,
      "grid_template_areas": null,
      "grid_template_columns": null,
      "grid_template_rows": null,
      "height": null,
      "justify_content": null,
      "justify_items": null,
      "left": null,
      "margin": null,
      "max_height": null,
      "max_width": null,
      "min_height": null,
      "min_width": null,
      "object_fit": null,
      "object_position": null,
      "order": null,
      "overflow": null,
      "overflow_x": null,
      "overflow_y": null,
      "padding": null,
      "right": null,
      "top": null,
      "visibility": null,
      "width": null
     }
    },
    "d8f20bb90be94477b3b69142854b4664": {
     "model_module": "@jupyter-widgets/controls",
     "model_module_version": "1.5.0",
     "model_name": "HBoxModel",
     "state": {
      "_dom_classes": [],
      "_model_module": "@jupyter-widgets/controls",
      "_model_module_version": "1.5.0",
      "_model_name": "HBoxModel",
      "_view_count": null,
      "_view_module": "@jupyter-widgets/controls",
      "_view_module_version": "1.5.0",
      "_view_name": "HBoxView",
      "box_style": "",
      "children": [
       "IPY_MODEL_dbd4a004c782490cac097885c6b3cc77",
       "IPY_MODEL_c04163bd465a43478bfcb5768c8fda95",
       "IPY_MODEL_0437e72f97a44899b837c69da3d7d68b"
      ],
      "layout": "IPY_MODEL_d6e212d8c6d8427e95fd3697e5301071"
     }
    },
    "d8f67468a0c144b09c819d8fd3f5be21": {
     "model_module": "@jupyter-widgets/base",
     "model_module_version": "1.2.0",
     "model_name": "LayoutModel",
     "state": {
      "_model_module": "@jupyter-widgets/base",
      "_model_module_version": "1.2.0",
      "_model_name": "LayoutModel",
      "_view_count": null,
      "_view_module": "@jupyter-widgets/base",
      "_view_module_version": "1.2.0",
      "_view_name": "LayoutView",
      "align_content": null,
      "align_items": null,
      "align_self": null,
      "border": null,
      "bottom": null,
      "display": null,
      "flex": null,
      "flex_flow": null,
      "grid_area": null,
      "grid_auto_columns": null,
      "grid_auto_flow": null,
      "grid_auto_rows": null,
      "grid_column": null,
      "grid_gap": null,
      "grid_row": null,
      "grid_template_areas": null,
      "grid_template_columns": null,
      "grid_template_rows": null,
      "height": null,
      "justify_content": null,
      "justify_items": null,
      "left": null,
      "margin": null,
      "max_height": null,
      "max_width": null,
      "min_height": null,
      "min_width": null,
      "object_fit": null,
      "object_position": null,
      "order": null,
      "overflow": null,
      "overflow_x": null,
      "overflow_y": null,
      "padding": null,
      "right": null,
      "top": null,
      "visibility": null,
      "width": null
     }
    },
    "dbd4a004c782490cac097885c6b3cc77": {
     "model_module": "@jupyter-widgets/controls",
     "model_module_version": "1.5.0",
     "model_name": "HTMLModel",
     "state": {
      "_dom_classes": [],
      "_model_module": "@jupyter-widgets/controls",
      "_model_module_version": "1.5.0",
      "_model_name": "HTMLModel",
      "_view_count": null,
      "_view_module": "@jupyter-widgets/controls",
      "_view_module_version": "1.5.0",
      "_view_name": "HTMLView",
      "description": "",
      "description_tooltip": null,
      "layout": "IPY_MODEL_a295ebb590fb40e2a72752eada7a378c",
      "placeholder": "​",
      "style": "IPY_MODEL_6635cb942b234bac8b2f70bf1e544790",
      "value": "100%"
     }
    },
    "dc831fadeefe4046b5a4aff18e114bda": {
     "model_module": "@jupyter-widgets/controls",
     "model_module_version": "1.5.0",
     "model_name": "ProgressStyleModel",
     "state": {
      "_model_module": "@jupyter-widgets/controls",
      "_model_module_version": "1.5.0",
      "_model_name": "ProgressStyleModel",
      "_view_count": null,
      "_view_module": "@jupyter-widgets/base",
      "_view_module_version": "1.2.0",
      "_view_name": "StyleView",
      "bar_color": null,
      "description_width": ""
     }
    },
    "dff420a31fed40718b43c38fce0e0dde": {
     "model_module": "@jupyter-widgets/base",
     "model_module_version": "1.2.0",
     "model_name": "LayoutModel",
     "state": {
      "_model_module": "@jupyter-widgets/base",
      "_model_module_version": "1.2.0",
      "_model_name": "LayoutModel",
      "_view_count": null,
      "_view_module": "@jupyter-widgets/base",
      "_view_module_version": "1.2.0",
      "_view_name": "LayoutView",
      "align_content": null,
      "align_items": null,
      "align_self": null,
      "border": null,
      "bottom": null,
      "display": null,
      "flex": null,
      "flex_flow": null,
      "grid_area": null,
      "grid_auto_columns": null,
      "grid_auto_flow": null,
      "grid_auto_rows": null,
      "grid_column": null,
      "grid_gap": null,
      "grid_row": null,
      "grid_template_areas": null,
      "grid_template_columns": null,
      "grid_template_rows": null,
      "height": null,
      "justify_content": null,
      "justify_items": null,
      "left": null,
      "margin": null,
      "max_height": null,
      "max_width": null,
      "min_height": null,
      "min_width": null,
      "object_fit": null,
      "object_position": null,
      "order": null,
      "overflow": null,
      "overflow_x": null,
      "overflow_y": null,
      "padding": null,
      "right": null,
      "top": null,
      "visibility": null,
      "width": null
     }
    },
    "e2401e0ec45344f68bdb95e5c9705cfd": {
     "model_module": "@jupyter-widgets/base",
     "model_module_version": "1.2.0",
     "model_name": "LayoutModel",
     "state": {
      "_model_module": "@jupyter-widgets/base",
      "_model_module_version": "1.2.0",
      "_model_name": "LayoutModel",
      "_view_count": null,
      "_view_module": "@jupyter-widgets/base",
      "_view_module_version": "1.2.0",
      "_view_name": "LayoutView",
      "align_content": null,
      "align_items": null,
      "align_self": null,
      "border": null,
      "bottom": null,
      "display": null,
      "flex": null,
      "flex_flow": null,
      "grid_area": null,
      "grid_auto_columns": null,
      "grid_auto_flow": null,
      "grid_auto_rows": null,
      "grid_column": null,
      "grid_gap": null,
      "grid_row": null,
      "grid_template_areas": null,
      "grid_template_columns": null,
      "grid_template_rows": null,
      "height": null,
      "justify_content": null,
      "justify_items": null,
      "left": null,
      "margin": null,
      "max_height": null,
      "max_width": null,
      "min_height": null,
      "min_width": null,
      "object_fit": null,
      "object_position": null,
      "order": null,
      "overflow": null,
      "overflow_x": null,
      "overflow_y": null,
      "padding": null,
      "right": null,
      "top": null,
      "visibility": null,
      "width": null
     }
    },
    "e332e76828874a498346d9f92e3f43b9": {
     "model_module": "@jupyter-widgets/controls",
     "model_module_version": "1.5.0",
     "model_name": "DescriptionStyleModel",
     "state": {
      "_model_module": "@jupyter-widgets/controls",
      "_model_module_version": "1.5.0",
      "_model_name": "DescriptionStyleModel",
      "_view_count": null,
      "_view_module": "@jupyter-widgets/base",
      "_view_module_version": "1.2.0",
      "_view_name": "StyleView",
      "description_width": ""
     }
    },
    "e463d6f5915945a4b396088d91aa884b": {
     "model_module": "@jupyter-widgets/controls",
     "model_module_version": "1.5.0",
     "model_name": "HBoxModel",
     "state": {
      "_dom_classes": [],
      "_model_module": "@jupyter-widgets/controls",
      "_model_module_version": "1.5.0",
      "_model_name": "HBoxModel",
      "_view_count": null,
      "_view_module": "@jupyter-widgets/controls",
      "_view_module_version": "1.5.0",
      "_view_name": "HBoxView",
      "box_style": "",
      "children": [
       "IPY_MODEL_977947bb94a14c239929242164d17ccf",
       "IPY_MODEL_18435455e5e247a089f50ce13fed8a1f",
       "IPY_MODEL_784e4e3c8a4b47359533406b90baa3fa"
      ],
      "layout": "IPY_MODEL_3dffee2368574e41b53b3e1af2636817"
     }
    },
    "e5715fbe22404028870fd911f05cc8cd": {
     "model_module": "@jupyter-widgets/controls",
     "model_module_version": "1.5.0",
     "model_name": "DescriptionStyleModel",
     "state": {
      "_model_module": "@jupyter-widgets/controls",
      "_model_module_version": "1.5.0",
      "_model_name": "DescriptionStyleModel",
      "_view_count": null,
      "_view_module": "@jupyter-widgets/base",
      "_view_module_version": "1.2.0",
      "_view_name": "StyleView",
      "description_width": ""
     }
    },
    "e5aadc8552894223badb0e75b39edffb": {
     "model_module": "@jupyter-widgets/controls",
     "model_module_version": "1.5.0",
     "model_name": "HBoxModel",
     "state": {
      "_dom_classes": [],
      "_model_module": "@jupyter-widgets/controls",
      "_model_module_version": "1.5.0",
      "_model_name": "HBoxModel",
      "_view_count": null,
      "_view_module": "@jupyter-widgets/controls",
      "_view_module_version": "1.5.0",
      "_view_name": "HBoxView",
      "box_style": "",
      "children": [
       "IPY_MODEL_7911e112c8904f09a52ad273bab82d75",
       "IPY_MODEL_2d8a9495056f481ba539cfb13b0514f8",
       "IPY_MODEL_2ec19a16c87b4beba546d05df6cfe415"
      ],
      "layout": "IPY_MODEL_ed22ad945d6645c8ac9fb023c706cc1c"
     }
    },
    "e60618fdf99f4f06afbe5caf1c610e89": {
     "model_module": "@jupyter-widgets/controls",
     "model_module_version": "1.5.0",
     "model_name": "DescriptionStyleModel",
     "state": {
      "_model_module": "@jupyter-widgets/controls",
      "_model_module_version": "1.5.0",
      "_model_name": "DescriptionStyleModel",
      "_view_count": null,
      "_view_module": "@jupyter-widgets/base",
      "_view_module_version": "1.2.0",
      "_view_name": "StyleView",
      "description_width": ""
     }
    },
    "ed22ad945d6645c8ac9fb023c706cc1c": {
     "model_module": "@jupyter-widgets/base",
     "model_module_version": "1.2.0",
     "model_name": "LayoutModel",
     "state": {
      "_model_module": "@jupyter-widgets/base",
      "_model_module_version": "1.2.0",
      "_model_name": "LayoutModel",
      "_view_count": null,
      "_view_module": "@jupyter-widgets/base",
      "_view_module_version": "1.2.0",
      "_view_name": "LayoutView",
      "align_content": null,
      "align_items": null,
      "align_self": null,
      "border": null,
      "bottom": null,
      "display": null,
      "flex": null,
      "flex_flow": null,
      "grid_area": null,
      "grid_auto_columns": null,
      "grid_auto_flow": null,
      "grid_auto_rows": null,
      "grid_column": null,
      "grid_gap": null,
      "grid_row": null,
      "grid_template_areas": null,
      "grid_template_columns": null,
      "grid_template_rows": null,
      "height": null,
      "justify_content": null,
      "justify_items": null,
      "left": null,
      "margin": null,
      "max_height": null,
      "max_width": null,
      "min_height": null,
      "min_width": null,
      "object_fit": null,
      "object_position": null,
      "order": null,
      "overflow": null,
      "overflow_x": null,
      "overflow_y": null,
      "padding": null,
      "right": null,
      "top": null,
      "visibility": null,
      "width": null
     }
    },
    "ee47a5e958354511a003a936a3f79329": {
     "model_module": "@jupyter-widgets/controls",
     "model_module_version": "1.5.0",
     "model_name": "HTMLModel",
     "state": {
      "_dom_classes": [],
      "_model_module": "@jupyter-widgets/controls",
      "_model_module_version": "1.5.0",
      "_model_name": "HTMLModel",
      "_view_count": null,
      "_view_module": "@jupyter-widgets/controls",
      "_view_module_version": "1.5.0",
      "_view_name": "HTMLView",
      "description": "",
      "description_tooltip": null,
      "layout": "IPY_MODEL_ee6fc6fd5b1d43aa8dca435f8aa25653",
      "placeholder": "​",
      "style": "IPY_MODEL_e5715fbe22404028870fd911f05cc8cd",
      "value": "100%"
     }
    },
    "ee6fc6fd5b1d43aa8dca435f8aa25653": {
     "model_module": "@jupyter-widgets/base",
     "model_module_version": "1.2.0",
     "model_name": "LayoutModel",
     "state": {
      "_model_module": "@jupyter-widgets/base",
      "_model_module_version": "1.2.0",
      "_model_name": "LayoutModel",
      "_view_count": null,
      "_view_module": "@jupyter-widgets/base",
      "_view_module_version": "1.2.0",
      "_view_name": "LayoutView",
      "align_content": null,
      "align_items": null,
      "align_self": null,
      "border": null,
      "bottom": null,
      "display": null,
      "flex": null,
      "flex_flow": null,
      "grid_area": null,
      "grid_auto_columns": null,
      "grid_auto_flow": null,
      "grid_auto_rows": null,
      "grid_column": null,
      "grid_gap": null,
      "grid_row": null,
      "grid_template_areas": null,
      "grid_template_columns": null,
      "grid_template_rows": null,
      "height": null,
      "justify_content": null,
      "justify_items": null,
      "left": null,
      "margin": null,
      "max_height": null,
      "max_width": null,
      "min_height": null,
      "min_width": null,
      "object_fit": null,
      "object_position": null,
      "order": null,
      "overflow": null,
      "overflow_x": null,
      "overflow_y": null,
      "padding": null,
      "right": null,
      "top": null,
      "visibility": null,
      "width": null
     }
    },
    "fac3d9777d05419c9566ba098a426df7": {
     "model_module": "@jupyter-widgets/controls",
     "model_module_version": "1.5.0",
     "model_name": "DescriptionStyleModel",
     "state": {
      "_model_module": "@jupyter-widgets/controls",
      "_model_module_version": "1.5.0",
      "_model_name": "DescriptionStyleModel",
      "_view_count": null,
      "_view_module": "@jupyter-widgets/base",
      "_view_module_version": "1.2.0",
      "_view_name": "StyleView",
      "description_width": ""
     }
    }
   }
  }
 },
 "nbformat": 4,
 "nbformat_minor": 4
}
