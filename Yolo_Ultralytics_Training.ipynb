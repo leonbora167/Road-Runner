{
 "cells": [
  {
   "cell_type": "markdown",
   "metadata": {
    "id": "A1J7hc4dOEWG"
   },
   "source": [
    "# Prequisites"
   ]
  },
  {
   "cell_type": "code",
   "execution_count": null,
   "metadata": {
    "id": "_R1gUd_ELvEL"
   },
   "outputs": [],
   "source": []
  },
  {
   "cell_type": "code",
   "execution_count": null,
   "metadata": {
    "id": "gF-QgGIWI1p3"
   },
   "outputs": [],
   "source": [
    "!pip install ultralytics\n",
    "!pip install -q kaggle\n",
    "!pip install xmltodict"
   ]
  },
  {
   "cell_type": "code",
   "execution_count": null,
   "metadata": {
    "id": "-ExLFxb5KE-o"
   },
   "outputs": [],
   "source": [
    "!mkdir ~/.kaggle\n",
    "!cp kaggle.json ~/.kaggle/\n",
    "!chmod 600 ~/.kaggle/kaggle.json"
   ]
  },
  {
   "cell_type": "code",
   "execution_count": null,
   "metadata": {
    "id": "io8xaXP_SVje"
   },
   "outputs": [],
   "source": [
    "import os\n",
    "from tqdm.notebook import tqdm\n",
    "import cv2\n",
    "import xmltodict\n",
    "import json\n",
    "import matplotlib.pyplot as plt\n",
    "import random"
   ]
  },
  {
   "cell_type": "code",
   "execution_count": null,
   "metadata": {
    "id": "uMIrf1JCdlV_"
   },
   "outputs": [],
   "source": [
    "def convert_to_yolo_format(xmin, xmax, ymin, ymax, image_width, image_height):\n",
    "    \"\"\"Converts bounding box coordinates to YOLO format.\n",
    "\n",
    "    Args:\n",
    "        xmin: Minimum x-coordinate of the bounding box.\n",
    "        xmax: Maximum x-coordinate of the bounding box.\n",
    "        ymin: Minimum y-coordinate of the bounding box.\n",
    "        ymax: Maximum y-coordinate of the bounding box.\n",
    "        image_width: Width of the image.\n",
    "        image_height: Height of the image.\n",
    "\n",
    "    Returns:\n",
    "        A list containing the bounding box coordinates in YOLO format:\n",
    "        [center_x, center_y, width, height]\n",
    "    \"\"\"\n",
    "\n",
    "    dw = 1.0 / image_width\n",
    "    dh = 1.0 / image_height\n",
    "    x_center = (xmin + xmax) / 2.0 * dw\n",
    "    y_center = (ymin + ymax) / 2.0 * dh\n",
    "    width = (xmax - xmin) * dw\n",
    "    height = (ymax - ymin) * dh\n",
    "    return [x_center, y_center, width, height]"
   ]
  },
  {
   "cell_type": "markdown",
   "metadata": {
    "id": "ypCZEBMJSPtj"
   },
   "source": [
    "# Data Prep"
   ]
  },
  {
   "cell_type": "code",
   "execution_count": null,
   "metadata": {
    "id": "U0-RQxe5Jw0S"
   },
   "outputs": [],
   "source": [
    "!mkdir /content/data\n",
    "!mkdir /content/data/images\n",
    "!mkdir /content/data/labels"
   ]
  },
  {
   "cell_type": "markdown",
   "metadata": {
    "id": "e9uU_obkJt6Z"
   },
   "source": [
    "## NP-1"
   ]
  },
  {
   "cell_type": "code",
   "execution_count": null,
   "metadata": {
    "colab": {
     "base_uri": "https://localhost:8080/"
    },
    "id": "PpADmlcVJV3r",
    "outputId": "6470e1b7-4fae-4055-c16f-26d69c3027d9"
   },
   "outputs": [],
   "source": [
    "!kaggle datasets download -d saisirishan/indian-vehicle-dataset"
   ]
  },
  {
   "cell_type": "code",
   "execution_count": null,
   "metadata": {
    "id": "CKDUpB5jJWOK"
   },
   "outputs": [],
   "source": [
    "!unzip indian-vehicle-dataset.zip"
   ]
  },
  {
   "cell_type": "code",
   "execution_count": null,
   "metadata": {
    "id": "XuBzAOW2Jww4"
   },
   "outputs": [],
   "source": [
    "main_folder = \"/content/State-wise_OLX\"\n",
    "for i in tqdm(os.listdir(main_folder)):\n",
    "  state = os.path.join(main_folder, i)\n",
    "  for j in tqdm(os.listdir(state)):\n",
    "    if(j.endswith(\".xml\")):\n",
    "      annotation_path = os.path.join(state, j)\n",
    "      img_path = os.path.join(state, j.replace(\".xml\", \".jpg\"))\n",
    "      img = cv2.imread(img_path)\n",
    "      with open(annotation_path, encoding=\"utf8\") as fd:\n",
    "        temp = xmltodict.parse(fd.read())\n",
    "      xmin = float(temp[\"annotation\"][\"object\"][\"bndbox\"][\"xmin\"])\n",
    "      xmax = float(temp[\"annotation\"][\"object\"][\"bndbox\"][\"xmax\"])\n",
    "      ymin = float(temp[\"annotation\"][\"object\"][\"bndbox\"][\"ymin\"])\n",
    "      ymax = float(temp[\"annotation\"][\"object\"][\"bndbox\"][\"ymax\"])\n",
    "      try: #There are some xml files without any corresponding jpg images\n",
    "        image_width = img.shape[1]\n",
    "      except:\n",
    "        continue\n",
    "      image_height = img.shape[0]\n",
    "      yolo_format = convert_to_yolo_format(xmin, xmax, ymin, ymax, image_width, image_height)\n",
    "      x_center = yolo_format[0]\n",
    "      y_center = yolo_format[1]\n",
    "      width = yolo_format[2]\n",
    "      height = yolo_format[3]\n",
    "      clss = 0 #Class id 0 for number plates\n",
    "      new_img_path = os.path.join(\"/content/data/images\", j.replace(\".xml\", \"\") + \".jpg\")\n",
    "      new_annotation_path = os.path.join(\"/content/data/labels\", j.replace(\".xml\", \"\") + \".txt\")\n",
    "      cv2.imwrite(new_img_path, img)\n",
    "      with open(new_annotation_path, \"w\") as f:\n",
    "        f.write(str(clss) + \"\\t\" + str(x_center) + \"\\t\" + str(y_center) + \"\\t\" + str(width) + \"\\t\" + str(height) + \"\\n\")"
   ]
  },
  {
   "cell_type": "code",
   "execution_count": null,
   "metadata": {
    "colab": {
     "base_uri": "https://localhost:8080/"
    },
    "id": "oVYj1zrBJwtR",
    "outputId": "de67d8d8-e602-4794-c1f3-fd7ae414044a"
   },
   "outputs": [],
   "source": [
    "len(os.listdir(\"/content/data/images\")), len(os.listdir(\"/content/data/labels\"))"
   ]
  },
  {
   "cell_type": "code",
   "execution_count": null,
   "metadata": {
    "id": "mjG6pohG8ABM"
   },
   "outputs": [],
   "source": [
    "!rm -rf indian-vehicle-dataset.zip\n",
    "!rm -rf /content/State-wise_OLX\n",
    "!rm -rf /content/google_images\n",
    "!rm -rf /content/video_images"
   ]
  },
  {
   "cell_type": "markdown",
   "metadata": {
    "id": "-mjPxPlh4e8M"
   },
   "source": [
    "## Vehicle - 1"
   ]
  },
  {
   "cell_type": "code",
   "execution_count": null,
   "metadata": {
    "colab": {
     "base_uri": "https://localhost:8080/"
    },
    "id": "WLN5e56o8AJ7",
    "outputId": "5dbf9f1d-565a-41f1-f6ae-25e6a2a5155d"
   },
   "outputs": [],
   "source": [
    "!kaggle datasets download -d boulahchichenadir/cars-object-detection\n",
    "#https://www.kaggle.com/datasets/ashfakyeafi/road-vehicle-images-dataset"
   ]
  },
  {
   "cell_type": "code",
   "execution_count": null,
   "metadata": {
    "id": "L2odCJGC7bLn"
   },
   "outputs": [],
   "source": [
    "!unzip /content/cars-object-detection.zip"
   ]
  },
  {
   "cell_type": "code",
   "execution_count": null,
   "metadata": {
    "id": "vMu7UqvkMQmn"
   },
   "outputs": [],
   "source": [
    "!rm -rf /content/cars-object-detection.zip"
   ]
  },
  {
   "cell_type": "code",
   "execution_count": null,
   "metadata": {
    "colab": {
     "base_uri": "https://localhost:8080/",
     "height": 49,
     "referenced_widgets": [
      "454df97520704341944b0721155738e3",
      "465379eac5f14274827c86148286adbc",
      "54e35a64e14d4556885e7c845c5c2f55",
      "944f21019e464a52ad1c0870e254866d",
      "d1fa7e5d59a144f990d73a4009afa889",
      "9efab5dd23a44ad585cf42bdd25ab133",
      "4e207ea2ec5f4ccdaa8897d9335b5850",
      "8ef0902251f944b6a00fe5193879eabe",
      "ca738be78d994db6badd4941ec60f29e",
      "d0b8f308db8d4696b4a0cabd5bb9fd97",
      "b0ffc114349640178ec9f8a90a9b414e"
     ]
    },
    "id": "NPkb2GGjgoXb",
    "outputId": "7d257b43-cfbd-488e-f595-5edf1796735a"
   },
   "outputs": [],
   "source": [
    "main_folder = \"/content/DATA/DATA/train\"\n",
    "for i in tqdm(os.listdir(main_folder)):\n",
    "  if(i.endswith(\".jpg\")):\n",
    "    img_path = os.path.join(main_folder, i)\n",
    "  else:\n",
    "    continue\n",
    "  annotation_path = os.path.join(main_folder, i.replace(\".jpg\", \".xml\"))\n",
    "  with open(annotation_path, encoding=\"utf8\") as fd:\n",
    "    temp = xmltodict.parse(fd.read())\n",
    "  img = cv2.imread(img_path)\n",
    "  image_height, image_width = img.shape[0], img.shape[1]\n",
    "  lis = []\n",
    "  try:\n",
    "    for j in temp[\"annotation\"][\"object\"]:\n",
    "      xmin = float(j[\"bndbox\"][\"xmin\"])\n",
    "      xmax = float(j[\"bndbox\"][\"xmax\"])\n",
    "      ymin = float(j[\"bndbox\"][\"ymin\"])\n",
    "      ymax = float(j[\"bndbox\"][\"ymax\"])\n",
    "      yolo_format = convert_to_yolo_format(xmin, xmax, ymin, ymax, image_width, image_height)\n",
    "      clss = 1\n",
    "      x_center = yolo_format[0]\n",
    "      y_center = yolo_format[1]\n",
    "      width = yolo_format[2]\n",
    "      height = yolo_format[3]\n",
    "      line = str(clss) + \"\\t\" + str(x_center) + \"\\t\" + str(y_center) + \"\\t\" + str(width) + \"\\t\" + str(height) + \"\\n\"\n",
    "      lis.append(line)\n",
    "  except:\n",
    "    j = temp[\"annotation\"][\"object\"]\n",
    "    xmin = float(j[\"bndbox\"][\"xmin\"])\n",
    "    xmax = float(j[\"bndbox\"][\"xmax\"])\n",
    "    ymin = float(j[\"bndbox\"][\"ymin\"])\n",
    "    ymax = float(j[\"bndbox\"][\"ymax\"])\n",
    "    yolo_format = convert_to_yolo_format(xmin, xmax, ymin, ymax, image_width, image_height)\n",
    "    x_center = yolo_format[0]\n",
    "    y_center = yolo_format[1]\n",
    "    width = yolo_format[2]\n",
    "    height = yolo_format[3]\n",
    "    clss = 1\n",
    "    line = str(clss) + \"\\t\" + str(x_center) + \"\\t\" + str(y_center) + \"\\t\" + str(width) + \"\\t\" + str(height) + \"\\n\"\n",
    "    lis.append(line)\n",
    "  new_img_path = os.path.join(\"/content/data/images\", i)\n",
    "  new_annotation_path = os.path.join(\"/content/data/labels\", i.replace(\".jpg\", \".txt\"))\n",
    "  cv2.imwrite(new_img_path, img)\n",
    "  with open(new_annotation_path, \"w\") as f:\n",
    "    for k in lis:\n",
    "      f.write(k+\"\\n\")"
   ]
  },
  {
   "cell_type": "code",
   "execution_count": null,
   "metadata": {
    "colab": {
     "base_uri": "https://localhost:8080/"
    },
    "id": "serxeyqhBIfB",
    "outputId": "a000acf2-321f-48f2-fce2-765691c13962"
   },
   "outputs": [],
   "source": [
    "len(os.listdir(\"/content/data/images\")), len(os.listdir(\"/content/data/labels\"))"
   ]
  },
  {
   "cell_type": "code",
   "execution_count": null,
   "metadata": {
    "id": "G9q_NUQEABpf"
   },
   "outputs": [],
   "source": [
    "!rm -rf /content/DATA"
   ]
  },
  {
   "cell_type": "markdown",
   "metadata": {
    "id": "_kQt_cq8HqzT"
   },
   "source": [
    "# Yolo Training"
   ]
  },
  {
   "cell_type": "code",
   "execution_count": null,
   "metadata": {
    "colab": {
     "base_uri": "https://localhost:8080/",
     "height": 81,
     "referenced_widgets": [
      "043f4ece7d8b40c6864e3993414cd845",
      "4da43664f2d841b0b7b26f1b8fb7e39e",
      "607f7bb0ebd448d99556a32738f8c7b4",
      "c8b13b3ca97b4f2bba02dc62594108e2",
      "434804524553405b9192aa18c5649ea5",
      "115d4551579f451ea53a27c9c7592a10",
      "0375935b8db04e38beb38330522686bd",
      "1ce4c5722b404e5ea5bbb594bae5b147",
      "0e164ef148cd49bbab1830cf017d9a8d",
      "06a0270f8936460daeae2c99828f4f30",
      "45e797a0d2884c28bec66fd50c9578bd",
      "dcfd0f282e6f41cb9584a84437bd0618",
      "fcf79df4ca944d54801d753b99a790dc",
      "e680e5617d8b42538e33e5dab1fe3ef4",
      "5f0cb72d92dc4950aef693b071a08d85",
      "1b49d16eda09439286c406bfe05d9aa7",
      "4860604f734a4c5f847f2769bbfb4a88",
      "753ccd5caae843ef8cbe161819e9fb54",
      "50fa66723e0244f1a89c9bb2c1b9ae9d",
      "fe01b84b312743d3bfa9a944fb4fb94e",
      "c964384fd35740eabf9eb9e55014a8bf",
      "76c8ca0b75e54377a392e0d3b9a63204"
     ]
    },
    "id": "AqfNUAwu9h7U",
    "outputId": "701bfa6d-4363-4bcc-c595-ea16ba69379c"
   },
   "outputs": [],
   "source": [
    "#Clean mismatched labels and images if any present\n",
    "\n",
    "path1 = \"/content/data/images\"\n",
    "path2 = \"/content/data/labels\"\n",
    "\n",
    "lis1 = []\n",
    "lis2 = []\n",
    "for i in tqdm(os.listdir(path1)):\n",
    "  temp = i.replace(\".jpg\", \"\")\n",
    "  lis1.append(temp)\n",
    "\n",
    "for i in tqdm(os.listdir(path2)):\n",
    "  temp = i.replace(\".txt\", \"\")\n",
    "  lis2.append(temp)\n",
    "\n",
    "if(len(lis1) > len(lis2)):\n",
    "  for item in lis1:\n",
    "    if(item not in lis2):\n",
    "      os.remove(os.path.join(path1, item+\".jpg\"))\n",
    "\n",
    "if(len(lis2) > len(lis1)):\n",
    "  for item in lis2:\n",
    "    if(item not in lis1):\n",
    "      os.remove(os.path.join(path2, item+\".txt\"))"
   ]
  },
  {
   "cell_type": "code",
   "execution_count": null,
   "metadata": {
    "colab": {
     "base_uri": "https://localhost:8080/"
    },
    "id": "iwNRHVAOWpKs",
    "outputId": "d7dca0b3-23e2-4d19-9b8f-6053641fe565"
   },
   "outputs": [],
   "source": [
    "len(os.listdir(\"/content/data/images\")), len(os.listdir(\"/content/data/labels\"))"
   ]
  },
  {
   "cell_type": "code",
   "execution_count": null,
   "metadata": {
    "id": "3wmbDfXVY0QE"
   },
   "outputs": [],
   "source": [
    "!rm -rf /content/final_data"
   ]
  },
  {
   "cell_type": "code",
   "execution_count": null,
   "metadata": {
    "colab": {
     "base_uri": "https://localhost:8080/"
    },
    "id": "sxjMhxVIMaXa",
    "outputId": "3bd7dcfd-69ad-4ce1-9eb4-72a68f212bfd"
   },
   "outputs": [],
   "source": [
    "print(\"Number of images are \", len(os.listdir(\"/content/data/images\")))\n",
    "total_length = len(os.listdir(\"/content/data/images\"))\n",
    "!mkdir /content/final_data\n",
    "!mkdir /content/final_data/train\n",
    "!mkdir /content/final_data/validation\n",
    "!mkdir /content/final_data/train/images\n",
    "!mkdir /content/final_data/train/labels\n",
    "!mkdir /content/final_data/validation/images\n",
    "!mkdir /content/final_data/validation/labels"
   ]
  },
  {
   "cell_type": "code",
   "execution_count": null,
   "metadata": {
    "colab": {
     "base_uri": "https://localhost:8080/",
     "height": 49,
     "referenced_widgets": [
      "489036ed8d5446b4bb55b69068e67a10",
      "6e6a4cfae66f44a498b26928d1f7b0a4",
      "7e01299c7cdc40f5890c6782b399d614",
      "b39de054a2fe45dcbdcff679a0aaabb2",
      "0b0cde2b60a74effb3c522888d875591",
      "99573a9728da4624800a642d9d2a3d0d",
      "b55aab57d2f549ed8ce90c3d751766d5",
      "c9316412839f4a38ae4775d00c9c5dc7",
      "f7a7892b602546e5954a03aceee5f94e",
      "9874a5a089b7461ab3b1a239b7f30561",
      "57c2abdd4d1245a4a6106ff3e1894843"
     ]
    },
    "id": "kcMMvl9cMev-",
    "outputId": "61cf5ba5-83ed-4339-ee86-b805df7aa5f1"
   },
   "outputs": [],
   "source": [
    "#Gotta divide it into training and validation sets\n",
    "\n",
    "lis = os.listdir(\"/content/data/images\")\n",
    "lis = random.sample(lis, len(lis)) #Randomize the whole data\n",
    "\n",
    "count = 0\n",
    "for i in tqdm(os.listdir(\"/content/data/images\")):\n",
    "  img_path = os.path.join(\"/content/data/images\", i)\n",
    "  img = cv2.imread(img_path)\n",
    "  annotation_path = os.path.join(\"/content/data/labels\", i.replace(\".jpg\",\".txt\"))\n",
    "  temp = open(annotation_path, \"r\")\n",
    "  temp = temp.read()\n",
    "  if (count%6 == 0):\n",
    "    new_annotation_path = os.path.join(\"/content/final_data/validation/labels\", i.replace(\".jpg\", \".txt\"))\n",
    "    with open(new_annotation_path, \"w\") as f:\n",
    "      f.write(temp)\n",
    "    new_img_path = os.path.join(\"/content/final_data/validation/images\", i)\n",
    "    cv2.imwrite(new_img_path, img)\n",
    "  else:\n",
    "    new_annotation_path = os.path.join(\"/content/final_data/train/labels\", i.replace(\".jpg\", \".txt\"))\n",
    "    with open(new_annotation_path, \"w\") as f:\n",
    "      f.write(temp)\n",
    "    new_img_path = os.path.join(\"/content/final_data/train/images\", i)\n",
    "    cv2.imwrite(new_img_path, img)\n",
    "  count = count+1"
   ]
  },
  {
   "cell_type": "code",
   "execution_count": null,
   "metadata": {
    "colab": {
     "base_uri": "https://localhost:8080/"
    },
    "id": "sSYwx-o8MfTB",
    "outputId": "9adb2672-3c26-46a4-eb2c-abfb0f07f47b"
   },
   "outputs": [],
   "source": [
    "print(\"Number of training images are \", len(os.listdir(\"/content/final_data/train/images\")))\n",
    "print(\"Number of Validation images are\", len(os.listdir(\"/content/final_data/validation/images\")))"
   ]
  },
  {
   "cell_type": "code",
   "execution_count": null,
   "metadata": {
    "colab": {
     "base_uri": "https://localhost:8080/",
     "height": 36
    },
    "id": "niJEGH9--haI",
    "outputId": "cc095c19-1881-4b1a-fd97-21ae091783af"
   },
   "outputs": [],
   "source": [
    "# Create data.yaml\n",
    "\n",
    "'''\n",
    "train: training images absolute path\n",
    "val: validation images absolute path\n",
    "nc: number of classes\n",
    "names: class names in the order you have prepared your data in a list\n",
    "'''\n",
    "\n",
    "#Not including any script to create the data.yaml, please create it on your own\n",
    "\n",
    "'''\n",
    "train: /content/final_data/train/images\n",
    "val: /content/final_data/validation/images\n",
    "nc: 2\n",
    "classes: [\"number_plate\", \"vehicle\"]\n",
    "'''"
   ]
  },
  {
   "cell_type": "markdown",
   "metadata": {
    "id": "RIy0KjkqLh4g"
   },
   "source": [
    "## Yolov8"
   ]
  },
  {
   "cell_type": "code",
   "execution_count": null,
   "metadata": {
    "id": "UwGv3lgZIvdw"
   },
   "outputs": [],
   "source": [
    "from ultralytics import YOLO"
   ]
  },
  {
   "cell_type": "code",
   "execution_count": null,
   "metadata": {
    "colab": {
     "base_uri": "https://localhost:8080/"
    },
    "id": "NyZ7P_JNLo1u",
    "outputId": "fffacb92-32d6-4a63-a99b-4fe7937b1709"
   },
   "outputs": [],
   "source": [
    "model = YOLO(\"yolov8s.pt\")"
   ]
  },
  {
   "cell_type": "code",
   "execution_count": null,
   "metadata": {
    "colab": {
     "base_uri": "https://localhost:8080/"
    },
    "id": "WnhV9xWjL8kV",
    "outputId": "98de6f95-92b7-471f-bf51-2f256c22c6ea"
   },
   "outputs": [],
   "source": [
    "model.train(data=\"/content/data.yaml\",\n",
    "            epochs=20,\n",
    "            imgsz=640,\n",
    "            batch=-1,\n",
    "            device=0)"
   ]
  },
  {
   "cell_type": "code",
   "execution_count": null,
   "metadata": {
    "colab": {
     "base_uri": "https://localhost:8080/",
     "height": 34
    },
    "id": "BkD0z4eU9Wl6",
    "outputId": "16a1428a-d9e5-4e35-d903-62c9683b7879"
   },
   "outputs": [],
   "source": [
    "from google.colab import files\n",
    "files.download(\"/content/runs/detect/train4/weights/best.pt\")"
   ]
  },
  {
   "cell_type": "markdown",
   "metadata": {
    "id": "28tjZj6FHvIQ"
   },
   "source": [
    "### Yolov8 Export and Testing"
   ]
  },
  {
   "cell_type": "code",
   "execution_count": null,
   "metadata": {
    "id": "7dsKICcTHual"
   },
   "outputs": [],
   "source": [
    "from ultralytics import YOLO"
   ]
  },
  {
   "cell_type": "code",
   "execution_count": null,
   "metadata": {
    "id": "XzXOz8jFIyLh"
   },
   "outputs": [],
   "source": [
    "model = YOLO(\"/content/runs/detect/train2/weights/best.pt\")"
   ]
  },
  {
   "cell_type": "code",
   "execution_count": null,
   "metadata": {
    "colab": {
     "base_uri": "https://localhost:8080/",
     "height": 854
    },
    "id": "CULLhBu6Jc6N",
    "outputId": "7ba37770-b0a1-4940-9f28-7175d52c7485"
   },
   "outputs": [],
   "source": [
    "model.export(format=\"onnx\",\n",
    "             dynamic=True,\n",
    "             simplify=True)"
   ]
  },
  {
   "cell_type": "code",
   "execution_count": null,
   "metadata": {
    "id": "-tgRH_iQK6bS"
   },
   "outputs": [],
   "source": []
  }
 ],
 "metadata": {
  "accelerator": "GPU",
  "colab": {
   "collapsed_sections": [
    "HV-dt1gWjL7H",
    "-mjPxPlh4e8M"
   ],
   "gpuType": "T4",
   "provenance": []
  },
  "kernelspec": {
   "display_name": "Python 3 (ipykernel)",
   "language": "python",
   "name": "python3"
  },
  "language_info": {
   "codemirror_mode": {
    "name": "ipython",
    "version": 3
   },
   "file_extension": ".py",
   "mimetype": "text/x-python",
   "name": "python",
   "nbconvert_exporter": "python",
   "pygments_lexer": "ipython3",
   "version": "3.9.19"
  },
  "widgets": {
   "application/vnd.jupyter.widget-state+json": {
    "0375935b8db04e38beb38330522686bd": {
     "model_module": "@jupyter-widgets/controls",
     "model_module_version": "1.5.0",
     "model_name": "DescriptionStyleModel",
     "state": {
      "_model_module": "@jupyter-widgets/controls",
      "_model_module_version": "1.5.0",
      "_model_name": "DescriptionStyleModel",
      "_view_count": null,
      "_view_module": "@jupyter-widgets/base",
      "_view_module_version": "1.2.0",
      "_view_name": "StyleView",
      "description_width": ""
     }
    },
    "043f4ece7d8b40c6864e3993414cd845": {
     "model_module": "@jupyter-widgets/controls",
     "model_module_version": "1.5.0",
     "model_name": "HBoxModel",
     "state": {
      "_dom_classes": [],
      "_model_module": "@jupyter-widgets/controls",
      "_model_module_version": "1.5.0",
      "_model_name": "HBoxModel",
      "_view_count": null,
      "_view_module": "@jupyter-widgets/controls",
      "_view_module_version": "1.5.0",
      "_view_name": "HBoxView",
      "box_style": "",
      "children": [
       "IPY_MODEL_4da43664f2d841b0b7b26f1b8fb7e39e",
       "IPY_MODEL_607f7bb0ebd448d99556a32738f8c7b4",
       "IPY_MODEL_c8b13b3ca97b4f2bba02dc62594108e2"
      ],
      "layout": "IPY_MODEL_434804524553405b9192aa18c5649ea5"
     }
    },
    "06a0270f8936460daeae2c99828f4f30": {
     "model_module": "@jupyter-widgets/base",
     "model_module_version": "1.2.0",
     "model_name": "LayoutModel",
     "state": {
      "_model_module": "@jupyter-widgets/base",
      "_model_module_version": "1.2.0",
      "_model_name": "LayoutModel",
      "_view_count": null,
      "_view_module": "@jupyter-widgets/base",
      "_view_module_version": "1.2.0",
      "_view_name": "LayoutView",
      "align_content": null,
      "align_items": null,
      "align_self": null,
      "border": null,
      "bottom": null,
      "display": null,
      "flex": null,
      "flex_flow": null,
      "grid_area": null,
      "grid_auto_columns": null,
      "grid_auto_flow": null,
      "grid_auto_rows": null,
      "grid_column": null,
      "grid_gap": null,
      "grid_row": null,
      "grid_template_areas": null,
      "grid_template_columns": null,
      "grid_template_rows": null,
      "height": null,
      "justify_content": null,
      "justify_items": null,
      "left": null,
      "margin": null,
      "max_height": null,
      "max_width": null,
      "min_height": null,
      "min_width": null,
      "object_fit": null,
      "object_position": null,
      "order": null,
      "overflow": null,
      "overflow_x": null,
      "overflow_y": null,
      "padding": null,
      "right": null,
      "top": null,
      "visibility": null,
      "width": null
     }
    },
    "0b0cde2b60a74effb3c522888d875591": {
     "model_module": "@jupyter-widgets/base",
     "model_module_version": "1.2.0",
     "model_name": "LayoutModel",
     "state": {
      "_model_module": "@jupyter-widgets/base",
      "_model_module_version": "1.2.0",
      "_model_name": "LayoutModel",
      "_view_count": null,
      "_view_module": "@jupyter-widgets/base",
      "_view_module_version": "1.2.0",
      "_view_name": "LayoutView",
      "align_content": null,
      "align_items": null,
      "align_self": null,
      "border": null,
      "bottom": null,
      "display": null,
      "flex": null,
      "flex_flow": null,
      "grid_area": null,
      "grid_auto_columns": null,
      "grid_auto_flow": null,
      "grid_auto_rows": null,
      "grid_column": null,
      "grid_gap": null,
      "grid_row": null,
      "grid_template_areas": null,
      "grid_template_columns": null,
      "grid_template_rows": null,
      "height": null,
      "justify_content": null,
      "justify_items": null,
      "left": null,
      "margin": null,
      "max_height": null,
      "max_width": null,
      "min_height": null,
      "min_width": null,
      "object_fit": null,
      "object_position": null,
      "order": null,
      "overflow": null,
      "overflow_x": null,
      "overflow_y": null,
      "padding": null,
      "right": null,
      "top": null,
      "visibility": null,
      "width": null
     }
    },
    "0e164ef148cd49bbab1830cf017d9a8d": {
     "model_module": "@jupyter-widgets/controls",
     "model_module_version": "1.5.0",
     "model_name": "ProgressStyleModel",
     "state": {
      "_model_module": "@jupyter-widgets/controls",
      "_model_module_version": "1.5.0",
      "_model_name": "ProgressStyleModel",
      "_view_count": null,
      "_view_module": "@jupyter-widgets/base",
      "_view_module_version": "1.2.0",
      "_view_name": "StyleView",
      "bar_color": null,
      "description_width": ""
     }
    },
    "115d4551579f451ea53a27c9c7592a10": {
     "model_module": "@jupyter-widgets/base",
     "model_module_version": "1.2.0",
     "model_name": "LayoutModel",
     "state": {
      "_model_module": "@jupyter-widgets/base",
      "_model_module_version": "1.2.0",
      "_model_name": "LayoutModel",
      "_view_count": null,
      "_view_module": "@jupyter-widgets/base",
      "_view_module_version": "1.2.0",
      "_view_name": "LayoutView",
      "align_content": null,
      "align_items": null,
      "align_self": null,
      "border": null,
      "bottom": null,
      "display": null,
      "flex": null,
      "flex_flow": null,
      "grid_area": null,
      "grid_auto_columns": null,
      "grid_auto_flow": null,
      "grid_auto_rows": null,
      "grid_column": null,
      "grid_gap": null,
      "grid_row": null,
      "grid_template_areas": null,
      "grid_template_columns": null,
      "grid_template_rows": null,
      "height": null,
      "justify_content": null,
      "justify_items": null,
      "left": null,
      "margin": null,
      "max_height": null,
      "max_width": null,
      "min_height": null,
      "min_width": null,
      "object_fit": null,
      "object_position": null,
      "order": null,
      "overflow": null,
      "overflow_x": null,
      "overflow_y": null,
      "padding": null,
      "right": null,
      "top": null,
      "visibility": null,
      "width": null
     }
    },
    "1b49d16eda09439286c406bfe05d9aa7": {
     "model_module": "@jupyter-widgets/base",
     "model_module_version": "1.2.0",
     "model_name": "LayoutModel",
     "state": {
      "_model_module": "@jupyter-widgets/base",
      "_model_module_version": "1.2.0",
      "_model_name": "LayoutModel",
      "_view_count": null,
      "_view_module": "@jupyter-widgets/base",
      "_view_module_version": "1.2.0",
      "_view_name": "LayoutView",
      "align_content": null,
      "align_items": null,
      "align_self": null,
      "border": null,
      "bottom": null,
      "display": null,
      "flex": null,
      "flex_flow": null,
      "grid_area": null,
      "grid_auto_columns": null,
      "grid_auto_flow": null,
      "grid_auto_rows": null,
      "grid_column": null,
      "grid_gap": null,
      "grid_row": null,
      "grid_template_areas": null,
      "grid_template_columns": null,
      "grid_template_rows": null,
      "height": null,
      "justify_content": null,
      "justify_items": null,
      "left": null,
      "margin": null,
      "max_height": null,
      "max_width": null,
      "min_height": null,
      "min_width": null,
      "object_fit": null,
      "object_position": null,
      "order": null,
      "overflow": null,
      "overflow_x": null,
      "overflow_y": null,
      "padding": null,
      "right": null,
      "top": null,
      "visibility": null,
      "width": null
     }
    },
    "1ce4c5722b404e5ea5bbb594bae5b147": {
     "model_module": "@jupyter-widgets/base",
     "model_module_version": "1.2.0",
     "model_name": "LayoutModel",
     "state": {
      "_model_module": "@jupyter-widgets/base",
      "_model_module_version": "1.2.0",
      "_model_name": "LayoutModel",
      "_view_count": null,
      "_view_module": "@jupyter-widgets/base",
      "_view_module_version": "1.2.0",
      "_view_name": "LayoutView",
      "align_content": null,
      "align_items": null,
      "align_self": null,
      "border": null,
      "bottom": null,
      "display": null,
      "flex": null,
      "flex_flow": null,
      "grid_area": null,
      "grid_auto_columns": null,
      "grid_auto_flow": null,
      "grid_auto_rows": null,
      "grid_column": null,
      "grid_gap": null,
      "grid_row": null,
      "grid_template_areas": null,
      "grid_template_columns": null,
      "grid_template_rows": null,
      "height": null,
      "justify_content": null,
      "justify_items": null,
      "left": null,
      "margin": null,
      "max_height": null,
      "max_width": null,
      "min_height": null,
      "min_width": null,
      "object_fit": null,
      "object_position": null,
      "order": null,
      "overflow": null,
      "overflow_x": null,
      "overflow_y": null,
      "padding": null,
      "right": null,
      "top": null,
      "visibility": null,
      "width": null
     }
    },
    "434804524553405b9192aa18c5649ea5": {
     "model_module": "@jupyter-widgets/base",
     "model_module_version": "1.2.0",
     "model_name": "LayoutModel",
     "state": {
      "_model_module": "@jupyter-widgets/base",
      "_model_module_version": "1.2.0",
      "_model_name": "LayoutModel",
      "_view_count": null,
      "_view_module": "@jupyter-widgets/base",
      "_view_module_version": "1.2.0",
      "_view_name": "LayoutView",
      "align_content": null,
      "align_items": null,
      "align_self": null,
      "border": null,
      "bottom": null,
      "display": null,
      "flex": null,
      "flex_flow": null,
      "grid_area": null,
      "grid_auto_columns": null,
      "grid_auto_flow": null,
      "grid_auto_rows": null,
      "grid_column": null,
      "grid_gap": null,
      "grid_row": null,
      "grid_template_areas": null,
      "grid_template_columns": null,
      "grid_template_rows": null,
      "height": null,
      "justify_content": null,
      "justify_items": null,
      "left": null,
      "margin": null,
      "max_height": null,
      "max_width": null,
      "min_height": null,
      "min_width": null,
      "object_fit": null,
      "object_position": null,
      "order": null,
      "overflow": null,
      "overflow_x": null,
      "overflow_y": null,
      "padding": null,
      "right": null,
      "top": null,
      "visibility": null,
      "width": null
     }
    },
    "454df97520704341944b0721155738e3": {
     "model_module": "@jupyter-widgets/controls",
     "model_module_version": "1.5.0",
     "model_name": "HBoxModel",
     "state": {
      "_dom_classes": [],
      "_model_module": "@jupyter-widgets/controls",
      "_model_module_version": "1.5.0",
      "_model_name": "HBoxModel",
      "_view_count": null,
      "_view_module": "@jupyter-widgets/controls",
      "_view_module_version": "1.5.0",
      "_view_name": "HBoxView",
      "box_style": "",
      "children": [
       "IPY_MODEL_465379eac5f14274827c86148286adbc",
       "IPY_MODEL_54e35a64e14d4556885e7c845c5c2f55",
       "IPY_MODEL_944f21019e464a52ad1c0870e254866d"
      ],
      "layout": "IPY_MODEL_d1fa7e5d59a144f990d73a4009afa889"
     }
    },
    "45e797a0d2884c28bec66fd50c9578bd": {
     "model_module": "@jupyter-widgets/controls",
     "model_module_version": "1.5.0",
     "model_name": "DescriptionStyleModel",
     "state": {
      "_model_module": "@jupyter-widgets/controls",
      "_model_module_version": "1.5.0",
      "_model_name": "DescriptionStyleModel",
      "_view_count": null,
      "_view_module": "@jupyter-widgets/base",
      "_view_module_version": "1.2.0",
      "_view_name": "StyleView",
      "description_width": ""
     }
    },
    "465379eac5f14274827c86148286adbc": {
     "model_module": "@jupyter-widgets/controls",
     "model_module_version": "1.5.0",
     "model_name": "HTMLModel",
     "state": {
      "_dom_classes": [],
      "_model_module": "@jupyter-widgets/controls",
      "_model_module_version": "1.5.0",
      "_model_name": "HTMLModel",
      "_view_count": null,
      "_view_module": "@jupyter-widgets/controls",
      "_view_module_version": "1.5.0",
      "_view_name": "HTMLView",
      "description": "",
      "description_tooltip": null,
      "layout": "IPY_MODEL_9efab5dd23a44ad585cf42bdd25ab133",
      "placeholder": "​",
      "style": "IPY_MODEL_4e207ea2ec5f4ccdaa8897d9335b5850",
      "value": "100%"
     }
    },
    "4860604f734a4c5f847f2769bbfb4a88": {
     "model_module": "@jupyter-widgets/base",
     "model_module_version": "1.2.0",
     "model_name": "LayoutModel",
     "state": {
      "_model_module": "@jupyter-widgets/base",
      "_model_module_version": "1.2.0",
      "_model_name": "LayoutModel",
      "_view_count": null,
      "_view_module": "@jupyter-widgets/base",
      "_view_module_version": "1.2.0",
      "_view_name": "LayoutView",
      "align_content": null,
      "align_items": null,
      "align_self": null,
      "border": null,
      "bottom": null,
      "display": null,
      "flex": null,
      "flex_flow": null,
      "grid_area": null,
      "grid_auto_columns": null,
      "grid_auto_flow": null,
      "grid_auto_rows": null,
      "grid_column": null,
      "grid_gap": null,
      "grid_row": null,
      "grid_template_areas": null,
      "grid_template_columns": null,
      "grid_template_rows": null,
      "height": null,
      "justify_content": null,
      "justify_items": null,
      "left": null,
      "margin": null,
      "max_height": null,
      "max_width": null,
      "min_height": null,
      "min_width": null,
      "object_fit": null,
      "object_position": null,
      "order": null,
      "overflow": null,
      "overflow_x": null,
      "overflow_y": null,
      "padding": null,
      "right": null,
      "top": null,
      "visibility": null,
      "width": null
     }
    },
    "489036ed8d5446b4bb55b69068e67a10": {
     "model_module": "@jupyter-widgets/controls",
     "model_module_version": "1.5.0",
     "model_name": "HBoxModel",
     "state": {
      "_dom_classes": [],
      "_model_module": "@jupyter-widgets/controls",
      "_model_module_version": "1.5.0",
      "_model_name": "HBoxModel",
      "_view_count": null,
      "_view_module": "@jupyter-widgets/controls",
      "_view_module_version": "1.5.0",
      "_view_name": "HBoxView",
      "box_style": "",
      "children": [
       "IPY_MODEL_6e6a4cfae66f44a498b26928d1f7b0a4",
       "IPY_MODEL_7e01299c7cdc40f5890c6782b399d614",
       "IPY_MODEL_b39de054a2fe45dcbdcff679a0aaabb2"
      ],
      "layout": "IPY_MODEL_0b0cde2b60a74effb3c522888d875591"
     }
    },
    "4da43664f2d841b0b7b26f1b8fb7e39e": {
     "model_module": "@jupyter-widgets/controls",
     "model_module_version": "1.5.0",
     "model_name": "HTMLModel",
     "state": {
      "_dom_classes": [],
      "_model_module": "@jupyter-widgets/controls",
      "_model_module_version": "1.5.0",
      "_model_name": "HTMLModel",
      "_view_count": null,
      "_view_module": "@jupyter-widgets/controls",
      "_view_module_version": "1.5.0",
      "_view_name": "HTMLView",
      "description": "",
      "description_tooltip": null,
      "layout": "IPY_MODEL_115d4551579f451ea53a27c9c7592a10",
      "placeholder": "​",
      "style": "IPY_MODEL_0375935b8db04e38beb38330522686bd",
      "value": "100%"
     }
    },
    "4e207ea2ec5f4ccdaa8897d9335b5850": {
     "model_module": "@jupyter-widgets/controls",
     "model_module_version": "1.5.0",
     "model_name": "DescriptionStyleModel",
     "state": {
      "_model_module": "@jupyter-widgets/controls",
      "_model_module_version": "1.5.0",
      "_model_name": "DescriptionStyleModel",
      "_view_count": null,
      "_view_module": "@jupyter-widgets/base",
      "_view_module_version": "1.2.0",
      "_view_name": "StyleView",
      "description_width": ""
     }
    },
    "50fa66723e0244f1a89c9bb2c1b9ae9d": {
     "model_module": "@jupyter-widgets/base",
     "model_module_version": "1.2.0",
     "model_name": "LayoutModel",
     "state": {
      "_model_module": "@jupyter-widgets/base",
      "_model_module_version": "1.2.0",
      "_model_name": "LayoutModel",
      "_view_count": null,
      "_view_module": "@jupyter-widgets/base",
      "_view_module_version": "1.2.0",
      "_view_name": "LayoutView",
      "align_content": null,
      "align_items": null,
      "align_self": null,
      "border": null,
      "bottom": null,
      "display": null,
      "flex": null,
      "flex_flow": null,
      "grid_area": null,
      "grid_auto_columns": null,
      "grid_auto_flow": null,
      "grid_auto_rows": null,
      "grid_column": null,
      "grid_gap": null,
      "grid_row": null,
      "grid_template_areas": null,
      "grid_template_columns": null,
      "grid_template_rows": null,
      "height": null,
      "justify_content": null,
      "justify_items": null,
      "left": null,
      "margin": null,
      "max_height": null,
      "max_width": null,
      "min_height": null,
      "min_width": null,
      "object_fit": null,
      "object_position": null,
      "order": null,
      "overflow": null,
      "overflow_x": null,
      "overflow_y": null,
      "padding": null,
      "right": null,
      "top": null,
      "visibility": null,
      "width": null
     }
    },
    "54e35a64e14d4556885e7c845c5c2f55": {
     "model_module": "@jupyter-widgets/controls",
     "model_module_version": "1.5.0",
     "model_name": "FloatProgressModel",
     "state": {
      "_dom_classes": [],
      "_model_module": "@jupyter-widgets/controls",
      "_model_module_version": "1.5.0",
      "_model_name": "FloatProgressModel",
      "_view_count": null,
      "_view_module": "@jupyter-widgets/controls",
      "_view_module_version": "1.5.0",
      "_view_name": "ProgressView",
      "bar_style": "success",
      "description": "",
      "description_tooltip": null,
      "layout": "IPY_MODEL_8ef0902251f944b6a00fe5193879eabe",
      "max": 538,
      "min": 0,
      "orientation": "horizontal",
      "style": "IPY_MODEL_ca738be78d994db6badd4941ec60f29e",
      "value": 538
     }
    },
    "57c2abdd4d1245a4a6106ff3e1894843": {
     "model_module": "@jupyter-widgets/controls",
     "model_module_version": "1.5.0",
     "model_name": "DescriptionStyleModel",
     "state": {
      "_model_module": "@jupyter-widgets/controls",
      "_model_module_version": "1.5.0",
      "_model_name": "DescriptionStyleModel",
      "_view_count": null,
      "_view_module": "@jupyter-widgets/base",
      "_view_module_version": "1.2.0",
      "_view_name": "StyleView",
      "description_width": ""
     }
    },
    "5f0cb72d92dc4950aef693b071a08d85": {
     "model_module": "@jupyter-widgets/controls",
     "model_module_version": "1.5.0",
     "model_name": "HTMLModel",
     "state": {
      "_dom_classes": [],
      "_model_module": "@jupyter-widgets/controls",
      "_model_module_version": "1.5.0",
      "_model_name": "HTMLModel",
      "_view_count": null,
      "_view_module": "@jupyter-widgets/controls",
      "_view_module_version": "1.5.0",
      "_view_name": "HTMLView",
      "description": "",
      "description_tooltip": null,
      "layout": "IPY_MODEL_c964384fd35740eabf9eb9e55014a8bf",
      "placeholder": "​",
      "style": "IPY_MODEL_76c8ca0b75e54377a392e0d3b9a63204",
      "value": " 871/871 [00:00&lt;00:00, 32364.78it/s]"
     }
    },
    "607f7bb0ebd448d99556a32738f8c7b4": {
     "model_module": "@jupyter-widgets/controls",
     "model_module_version": "1.5.0",
     "model_name": "FloatProgressModel",
     "state": {
      "_dom_classes": [],
      "_model_module": "@jupyter-widgets/controls",
      "_model_module_version": "1.5.0",
      "_model_name": "FloatProgressModel",
      "_view_count": null,
      "_view_module": "@jupyter-widgets/controls",
      "_view_module_version": "1.5.0",
      "_view_name": "ProgressView",
      "bar_style": "success",
      "description": "",
      "description_tooltip": null,
      "layout": "IPY_MODEL_1ce4c5722b404e5ea5bbb594bae5b147",
      "max": 871,
      "min": 0,
      "orientation": "horizontal",
      "style": "IPY_MODEL_0e164ef148cd49bbab1830cf017d9a8d",
      "value": 871
     }
    },
    "6e6a4cfae66f44a498b26928d1f7b0a4": {
     "model_module": "@jupyter-widgets/controls",
     "model_module_version": "1.5.0",
     "model_name": "HTMLModel",
     "state": {
      "_dom_classes": [],
      "_model_module": "@jupyter-widgets/controls",
      "_model_module_version": "1.5.0",
      "_model_name": "HTMLModel",
      "_view_count": null,
      "_view_module": "@jupyter-widgets/controls",
      "_view_module_version": "1.5.0",
      "_view_name": "HTMLView",
      "description": "",
      "description_tooltip": null,
      "layout": "IPY_MODEL_99573a9728da4624800a642d9d2a3d0d",
      "placeholder": "​",
      "style": "IPY_MODEL_b55aab57d2f549ed8ce90c3d751766d5",
      "value": "100%"
     }
    },
    "753ccd5caae843ef8cbe161819e9fb54": {
     "model_module": "@jupyter-widgets/controls",
     "model_module_version": "1.5.0",
     "model_name": "DescriptionStyleModel",
     "state": {
      "_model_module": "@jupyter-widgets/controls",
      "_model_module_version": "1.5.0",
      "_model_name": "DescriptionStyleModel",
      "_view_count": null,
      "_view_module": "@jupyter-widgets/base",
      "_view_module_version": "1.2.0",
      "_view_name": "StyleView",
      "description_width": ""
     }
    },
    "76c8ca0b75e54377a392e0d3b9a63204": {
     "model_module": "@jupyter-widgets/controls",
     "model_module_version": "1.5.0",
     "model_name": "DescriptionStyleModel",
     "state": {
      "_model_module": "@jupyter-widgets/controls",
      "_model_module_version": "1.5.0",
      "_model_name": "DescriptionStyleModel",
      "_view_count": null,
      "_view_module": "@jupyter-widgets/base",
      "_view_module_version": "1.2.0",
      "_view_name": "StyleView",
      "description_width": ""
     }
    },
    "7e01299c7cdc40f5890c6782b399d614": {
     "model_module": "@jupyter-widgets/controls",
     "model_module_version": "1.5.0",
     "model_name": "FloatProgressModel",
     "state": {
      "_dom_classes": [],
      "_model_module": "@jupyter-widgets/controls",
      "_model_module_version": "1.5.0",
      "_model_name": "FloatProgressModel",
      "_view_count": null,
      "_view_module": "@jupyter-widgets/controls",
      "_view_module_version": "1.5.0",
      "_view_name": "ProgressView",
      "bar_style": "success",
      "description": "",
      "description_tooltip": null,
      "layout": "IPY_MODEL_c9316412839f4a38ae4775d00c9c5dc7",
      "max": 871,
      "min": 0,
      "orientation": "horizontal",
      "style": "IPY_MODEL_f7a7892b602546e5954a03aceee5f94e",
      "value": 871
     }
    },
    "8ef0902251f944b6a00fe5193879eabe": {
     "model_module": "@jupyter-widgets/base",
     "model_module_version": "1.2.0",
     "model_name": "LayoutModel",
     "state": {
      "_model_module": "@jupyter-widgets/base",
      "_model_module_version": "1.2.0",
      "_model_name": "LayoutModel",
      "_view_count": null,
      "_view_module": "@jupyter-widgets/base",
      "_view_module_version": "1.2.0",
      "_view_name": "LayoutView",
      "align_content": null,
      "align_items": null,
      "align_self": null,
      "border": null,
      "bottom": null,
      "display": null,
      "flex": null,
      "flex_flow": null,
      "grid_area": null,
      "grid_auto_columns": null,
      "grid_auto_flow": null,
      "grid_auto_rows": null,
      "grid_column": null,
      "grid_gap": null,
      "grid_row": null,
      "grid_template_areas": null,
      "grid_template_columns": null,
      "grid_template_rows": null,
      "height": null,
      "justify_content": null,
      "justify_items": null,
      "left": null,
      "margin": null,
      "max_height": null,
      "max_width": null,
      "min_height": null,
      "min_width": null,
      "object_fit": null,
      "object_position": null,
      "order": null,
      "overflow": null,
      "overflow_x": null,
      "overflow_y": null,
      "padding": null,
      "right": null,
      "top": null,
      "visibility": null,
      "width": null
     }
    },
    "944f21019e464a52ad1c0870e254866d": {
     "model_module": "@jupyter-widgets/controls",
     "model_module_version": "1.5.0",
     "model_name": "HTMLModel",
     "state": {
      "_dom_classes": [],
      "_model_module": "@jupyter-widgets/controls",
      "_model_module_version": "1.5.0",
      "_model_name": "HTMLModel",
      "_view_count": null,
      "_view_module": "@jupyter-widgets/controls",
      "_view_module_version": "1.5.0",
      "_view_name": "HTMLView",
      "description": "",
      "description_tooltip": null,
      "layout": "IPY_MODEL_d0b8f308db8d4696b4a0cabd5bb9fd97",
      "placeholder": "​",
      "style": "IPY_MODEL_b0ffc114349640178ec9f8a90a9b414e",
      "value": " 538/538 [00:03&lt;00:00, 102.92it/s]"
     }
    },
    "9874a5a089b7461ab3b1a239b7f30561": {
     "model_module": "@jupyter-widgets/base",
     "model_module_version": "1.2.0",
     "model_name": "LayoutModel",
     "state": {
      "_model_module": "@jupyter-widgets/base",
      "_model_module_version": "1.2.0",
      "_model_name": "LayoutModel",
      "_view_count": null,
      "_view_module": "@jupyter-widgets/base",
      "_view_module_version": "1.2.0",
      "_view_name": "LayoutView",
      "align_content": null,
      "align_items": null,
      "align_self": null,
      "border": null,
      "bottom": null,
      "display": null,
      "flex": null,
      "flex_flow": null,
      "grid_area": null,
      "grid_auto_columns": null,
      "grid_auto_flow": null,
      "grid_auto_rows": null,
      "grid_column": null,
      "grid_gap": null,
      "grid_row": null,
      "grid_template_areas": null,
      "grid_template_columns": null,
      "grid_template_rows": null,
      "height": null,
      "justify_content": null,
      "justify_items": null,
      "left": null,
      "margin": null,
      "max_height": null,
      "max_width": null,
      "min_height": null,
      "min_width": null,
      "object_fit": null,
      "object_position": null,
      "order": null,
      "overflow": null,
      "overflow_x": null,
      "overflow_y": null,
      "padding": null,
      "right": null,
      "top": null,
      "visibility": null,
      "width": null
     }
    },
    "99573a9728da4624800a642d9d2a3d0d": {
     "model_module": "@jupyter-widgets/base",
     "model_module_version": "1.2.0",
     "model_name": "LayoutModel",
     "state": {
      "_model_module": "@jupyter-widgets/base",
      "_model_module_version": "1.2.0",
      "_model_name": "LayoutModel",
      "_view_count": null,
      "_view_module": "@jupyter-widgets/base",
      "_view_module_version": "1.2.0",
      "_view_name": "LayoutView",
      "align_content": null,
      "align_items": null,
      "align_self": null,
      "border": null,
      "bottom": null,
      "display": null,
      "flex": null,
      "flex_flow": null,
      "grid_area": null,
      "grid_auto_columns": null,
      "grid_auto_flow": null,
      "grid_auto_rows": null,
      "grid_column": null,
      "grid_gap": null,
      "grid_row": null,
      "grid_template_areas": null,
      "grid_template_columns": null,
      "grid_template_rows": null,
      "height": null,
      "justify_content": null,
      "justify_items": null,
      "left": null,
      "margin": null,
      "max_height": null,
      "max_width": null,
      "min_height": null,
      "min_width": null,
      "object_fit": null,
      "object_position": null,
      "order": null,
      "overflow": null,
      "overflow_x": null,
      "overflow_y": null,
      "padding": null,
      "right": null,
      "top": null,
      "visibility": null,
      "width": null
     }
    },
    "9efab5dd23a44ad585cf42bdd25ab133": {
     "model_module": "@jupyter-widgets/base",
     "model_module_version": "1.2.0",
     "model_name": "LayoutModel",
     "state": {
      "_model_module": "@jupyter-widgets/base",
      "_model_module_version": "1.2.0",
      "_model_name": "LayoutModel",
      "_view_count": null,
      "_view_module": "@jupyter-widgets/base",
      "_view_module_version": "1.2.0",
      "_view_name": "LayoutView",
      "align_content": null,
      "align_items": null,
      "align_self": null,
      "border": null,
      "bottom": null,
      "display": null,
      "flex": null,
      "flex_flow": null,
      "grid_area": null,
      "grid_auto_columns": null,
      "grid_auto_flow": null,
      "grid_auto_rows": null,
      "grid_column": null,
      "grid_gap": null,
      "grid_row": null,
      "grid_template_areas": null,
      "grid_template_columns": null,
      "grid_template_rows": null,
      "height": null,
      "justify_content": null,
      "justify_items": null,
      "left": null,
      "margin": null,
      "max_height": null,
      "max_width": null,
      "min_height": null,
      "min_width": null,
      "object_fit": null,
      "object_position": null,
      "order": null,
      "overflow": null,
      "overflow_x": null,
      "overflow_y": null,
      "padding": null,
      "right": null,
      "top": null,
      "visibility": null,
      "width": null
     }
    },
    "b0ffc114349640178ec9f8a90a9b414e": {
     "model_module": "@jupyter-widgets/controls",
     "model_module_version": "1.5.0",
     "model_name": "DescriptionStyleModel",
     "state": {
      "_model_module": "@jupyter-widgets/controls",
      "_model_module_version": "1.5.0",
      "_model_name": "DescriptionStyleModel",
      "_view_count": null,
      "_view_module": "@jupyter-widgets/base",
      "_view_module_version": "1.2.0",
      "_view_name": "StyleView",
      "description_width": ""
     }
    },
    "b39de054a2fe45dcbdcff679a0aaabb2": {
     "model_module": "@jupyter-widgets/controls",
     "model_module_version": "1.5.0",
     "model_name": "HTMLModel",
     "state": {
      "_dom_classes": [],
      "_model_module": "@jupyter-widgets/controls",
      "_model_module_version": "1.5.0",
      "_model_name": "HTMLModel",
      "_view_count": null,
      "_view_module": "@jupyter-widgets/controls",
      "_view_module_version": "1.5.0",
      "_view_name": "HTMLView",
      "description": "",
      "description_tooltip": null,
      "layout": "IPY_MODEL_9874a5a089b7461ab3b1a239b7f30561",
      "placeholder": "​",
      "style": "IPY_MODEL_57c2abdd4d1245a4a6106ff3e1894843",
      "value": " 871/871 [00:06&lt;00:00, 123.60it/s]"
     }
    },
    "b55aab57d2f549ed8ce90c3d751766d5": {
     "model_module": "@jupyter-widgets/controls",
     "model_module_version": "1.5.0",
     "model_name": "DescriptionStyleModel",
     "state": {
      "_model_module": "@jupyter-widgets/controls",
      "_model_module_version": "1.5.0",
      "_model_name": "DescriptionStyleModel",
      "_view_count": null,
      "_view_module": "@jupyter-widgets/base",
      "_view_module_version": "1.2.0",
      "_view_name": "StyleView",
      "description_width": ""
     }
    },
    "c8b13b3ca97b4f2bba02dc62594108e2": {
     "model_module": "@jupyter-widgets/controls",
     "model_module_version": "1.5.0",
     "model_name": "HTMLModel",
     "state": {
      "_dom_classes": [],
      "_model_module": "@jupyter-widgets/controls",
      "_model_module_version": "1.5.0",
      "_model_name": "HTMLModel",
      "_view_count": null,
      "_view_module": "@jupyter-widgets/controls",
      "_view_module_version": "1.5.0",
      "_view_name": "HTMLView",
      "description": "",
      "description_tooltip": null,
      "layout": "IPY_MODEL_06a0270f8936460daeae2c99828f4f30",
      "placeholder": "​",
      "style": "IPY_MODEL_45e797a0d2884c28bec66fd50c9578bd",
      "value": " 871/871 [00:00&lt;00:00, 51326.83it/s]"
     }
    },
    "c9316412839f4a38ae4775d00c9c5dc7": {
     "model_module": "@jupyter-widgets/base",
     "model_module_version": "1.2.0",
     "model_name": "LayoutModel",
     "state": {
      "_model_module": "@jupyter-widgets/base",
      "_model_module_version": "1.2.0",
      "_model_name": "LayoutModel",
      "_view_count": null,
      "_view_module": "@jupyter-widgets/base",
      "_view_module_version": "1.2.0",
      "_view_name": "LayoutView",
      "align_content": null,
      "align_items": null,
      "align_self": null,
      "border": null,
      "bottom": null,
      "display": null,
      "flex": null,
      "flex_flow": null,
      "grid_area": null,
      "grid_auto_columns": null,
      "grid_auto_flow": null,
      "grid_auto_rows": null,
      "grid_column": null,
      "grid_gap": null,
      "grid_row": null,
      "grid_template_areas": null,
      "grid_template_columns": null,
      "grid_template_rows": null,
      "height": null,
      "justify_content": null,
      "justify_items": null,
      "left": null,
      "margin": null,
      "max_height": null,
      "max_width": null,
      "min_height": null,
      "min_width": null,
      "object_fit": null,
      "object_position": null,
      "order": null,
      "overflow": null,
      "overflow_x": null,
      "overflow_y": null,
      "padding": null,
      "right": null,
      "top": null,
      "visibility": null,
      "width": null
     }
    },
    "c964384fd35740eabf9eb9e55014a8bf": {
     "model_module": "@jupyter-widgets/base",
     "model_module_version": "1.2.0",
     "model_name": "LayoutModel",
     "state": {
      "_model_module": "@jupyter-widgets/base",
      "_model_module_version": "1.2.0",
      "_model_name": "LayoutModel",
      "_view_count": null,
      "_view_module": "@jupyter-widgets/base",
      "_view_module_version": "1.2.0",
      "_view_name": "LayoutView",
      "align_content": null,
      "align_items": null,
      "align_self": null,
      "border": null,
      "bottom": null,
      "display": null,
      "flex": null,
      "flex_flow": null,
      "grid_area": null,
      "grid_auto_columns": null,
      "grid_auto_flow": null,
      "grid_auto_rows": null,
      "grid_column": null,
      "grid_gap": null,
      "grid_row": null,
      "grid_template_areas": null,
      "grid_template_columns": null,
      "grid_template_rows": null,
      "height": null,
      "justify_content": null,
      "justify_items": null,
      "left": null,
      "margin": null,
      "max_height": null,
      "max_width": null,
      "min_height": null,
      "min_width": null,
      "object_fit": null,
      "object_position": null,
      "order": null,
      "overflow": null,
      "overflow_x": null,
      "overflow_y": null,
      "padding": null,
      "right": null,
      "top": null,
      "visibility": null,
      "width": null
     }
    },
    "ca738be78d994db6badd4941ec60f29e": {
     "model_module": "@jupyter-widgets/controls",
     "model_module_version": "1.5.0",
     "model_name": "ProgressStyleModel",
     "state": {
      "_model_module": "@jupyter-widgets/controls",
      "_model_module_version": "1.5.0",
      "_model_name": "ProgressStyleModel",
      "_view_count": null,
      "_view_module": "@jupyter-widgets/base",
      "_view_module_version": "1.2.0",
      "_view_name": "StyleView",
      "bar_color": null,
      "description_width": ""
     }
    },
    "d0b8f308db8d4696b4a0cabd5bb9fd97": {
     "model_module": "@jupyter-widgets/base",
     "model_module_version": "1.2.0",
     "model_name": "LayoutModel",
     "state": {
      "_model_module": "@jupyter-widgets/base",
      "_model_module_version": "1.2.0",
      "_model_name": "LayoutModel",
      "_view_count": null,
      "_view_module": "@jupyter-widgets/base",
      "_view_module_version": "1.2.0",
      "_view_name": "LayoutView",
      "align_content": null,
      "align_items": null,
      "align_self": null,
      "border": null,
      "bottom": null,
      "display": null,
      "flex": null,
      "flex_flow": null,
      "grid_area": null,
      "grid_auto_columns": null,
      "grid_auto_flow": null,
      "grid_auto_rows": null,
      "grid_column": null,
      "grid_gap": null,
      "grid_row": null,
      "grid_template_areas": null,
      "grid_template_columns": null,
      "grid_template_rows": null,
      "height": null,
      "justify_content": null,
      "justify_items": null,
      "left": null,
      "margin": null,
      "max_height": null,
      "max_width": null,
      "min_height": null,
      "min_width": null,
      "object_fit": null,
      "object_position": null,
      "order": null,
      "overflow": null,
      "overflow_x": null,
      "overflow_y": null,
      "padding": null,
      "right": null,
      "top": null,
      "visibility": null,
      "width": null
     }
    },
    "d1fa7e5d59a144f990d73a4009afa889": {
     "model_module": "@jupyter-widgets/base",
     "model_module_version": "1.2.0",
     "model_name": "LayoutModel",
     "state": {
      "_model_module": "@jupyter-widgets/base",
      "_model_module_version": "1.2.0",
      "_model_name": "LayoutModel",
      "_view_count": null,
      "_view_module": "@jupyter-widgets/base",
      "_view_module_version": "1.2.0",
      "_view_name": "LayoutView",
      "align_content": null,
      "align_items": null,
      "align_self": null,
      "border": null,
      "bottom": null,
      "display": null,
      "flex": null,
      "flex_flow": null,
      "grid_area": null,
      "grid_auto_columns": null,
      "grid_auto_flow": null,
      "grid_auto_rows": null,
      "grid_column": null,
      "grid_gap": null,
      "grid_row": null,
      "grid_template_areas": null,
      "grid_template_columns": null,
      "grid_template_rows": null,
      "height": null,
      "justify_content": null,
      "justify_items": null,
      "left": null,
      "margin": null,
      "max_height": null,
      "max_width": null,
      "min_height": null,
      "min_width": null,
      "object_fit": null,
      "object_position": null,
      "order": null,
      "overflow": null,
      "overflow_x": null,
      "overflow_y": null,
      "padding": null,
      "right": null,
      "top": null,
      "visibility": null,
      "width": null
     }
    },
    "dcfd0f282e6f41cb9584a84437bd0618": {
     "model_module": "@jupyter-widgets/controls",
     "model_module_version": "1.5.0",
     "model_name": "HBoxModel",
     "state": {
      "_dom_classes": [],
      "_model_module": "@jupyter-widgets/controls",
      "_model_module_version": "1.5.0",
      "_model_name": "HBoxModel",
      "_view_count": null,
      "_view_module": "@jupyter-widgets/controls",
      "_view_module_version": "1.5.0",
      "_view_name": "HBoxView",
      "box_style": "",
      "children": [
       "IPY_MODEL_fcf79df4ca944d54801d753b99a790dc",
       "IPY_MODEL_e680e5617d8b42538e33e5dab1fe3ef4",
       "IPY_MODEL_5f0cb72d92dc4950aef693b071a08d85"
      ],
      "layout": "IPY_MODEL_1b49d16eda09439286c406bfe05d9aa7"
     }
    },
    "e680e5617d8b42538e33e5dab1fe3ef4": {
     "model_module": "@jupyter-widgets/controls",
     "model_module_version": "1.5.0",
     "model_name": "FloatProgressModel",
     "state": {
      "_dom_classes": [],
      "_model_module": "@jupyter-widgets/controls",
      "_model_module_version": "1.5.0",
      "_model_name": "FloatProgressModel",
      "_view_count": null,
      "_view_module": "@jupyter-widgets/controls",
      "_view_module_version": "1.5.0",
      "_view_name": "ProgressView",
      "bar_style": "success",
      "description": "",
      "description_tooltip": null,
      "layout": "IPY_MODEL_50fa66723e0244f1a89c9bb2c1b9ae9d",
      "max": 871,
      "min": 0,
      "orientation": "horizontal",
      "style": "IPY_MODEL_fe01b84b312743d3bfa9a944fb4fb94e",
      "value": 871
     }
    },
    "f7a7892b602546e5954a03aceee5f94e": {
     "model_module": "@jupyter-widgets/controls",
     "model_module_version": "1.5.0",
     "model_name": "ProgressStyleModel",
     "state": {
      "_model_module": "@jupyter-widgets/controls",
      "_model_module_version": "1.5.0",
      "_model_name": "ProgressStyleModel",
      "_view_count": null,
      "_view_module": "@jupyter-widgets/base",
      "_view_module_version": "1.2.0",
      "_view_name": "StyleView",
      "bar_color": null,
      "description_width": ""
     }
    },
    "fcf79df4ca944d54801d753b99a790dc": {
     "model_module": "@jupyter-widgets/controls",
     "model_module_version": "1.5.0",
     "model_name": "HTMLModel",
     "state": {
      "_dom_classes": [],
      "_model_module": "@jupyter-widgets/controls",
      "_model_module_version": "1.5.0",
      "_model_name": "HTMLModel",
      "_view_count": null,
      "_view_module": "@jupyter-widgets/controls",
      "_view_module_version": "1.5.0",
      "_view_name": "HTMLView",
      "description": "",
      "description_tooltip": null,
      "layout": "IPY_MODEL_4860604f734a4c5f847f2769bbfb4a88",
      "placeholder": "​",
      "style": "IPY_MODEL_753ccd5caae843ef8cbe161819e9fb54",
      "value": "100%"
     }
    },
    "fe01b84b312743d3bfa9a944fb4fb94e": {
     "model_module": "@jupyter-widgets/controls",
     "model_module_version": "1.5.0",
     "model_name": "ProgressStyleModel",
     "state": {
      "_model_module": "@jupyter-widgets/controls",
      "_model_module_version": "1.5.0",
      "_model_name": "ProgressStyleModel",
      "_view_count": null,
      "_view_module": "@jupyter-widgets/base",
      "_view_module_version": "1.2.0",
      "_view_name": "StyleView",
      "bar_color": null,
      "description_width": ""
     }
    }
   }
  }
 },
 "nbformat": 4,
 "nbformat_minor": 4
}
